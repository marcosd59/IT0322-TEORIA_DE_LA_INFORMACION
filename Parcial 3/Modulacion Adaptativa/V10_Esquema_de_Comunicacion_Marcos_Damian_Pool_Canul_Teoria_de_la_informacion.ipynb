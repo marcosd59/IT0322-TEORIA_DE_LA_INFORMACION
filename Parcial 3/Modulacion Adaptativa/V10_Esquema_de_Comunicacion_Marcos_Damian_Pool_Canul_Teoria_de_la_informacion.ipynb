{
 "cells": [
  {
   "cell_type": "markdown",
   "metadata": {},
   "source": [
    "# **Esquema de comunicación**"
   ]
  },
  {
   "cell_type": "markdown",
   "metadata": {},
   "source": [
    "## **Modulación Adaptativa**"
   ]
  },
  {
   "cell_type": "markdown",
   "metadata": {},
   "source": [
    "### **Importamos las librerias**"
   ]
  },
  {
   "cell_type": "code",
   "execution_count": 191,
   "metadata": {},
   "outputs": [],
   "source": [
    "import random\n",
    "from collections import Counter"
   ]
  },
  {
   "cell_type": "markdown",
   "metadata": {},
   "source": [
    "### **Función principal para leer el archivo .txt**"
   ]
  },
  {
   "cell_type": "code",
   "execution_count": 192,
   "metadata": {},
   "outputs": [],
   "source": [
    "def fuente(filePpath):\n",
    "    try:\n",
    "        with open(filePpath, \"r\", encoding=\"utf-8\") as file:\n",
    "            text = file.read()\n",
    "            binarioTexto = ''.join(format(ord(caracter), '08b') for caracter in text)\n",
    "            Paquete = [binarioTexto[i:i+8] for i in range(0, len(binarioTexto), 8)]\n",
    "        return Paquete\n",
    "    except FileNotFoundError:\n",
    "        print(f\"El archivo '{filePpath}' no se encontró.\")\n",
    "        return []"
   ]
  },
  {
   "cell_type": "markdown",
   "metadata": {},
   "source": [
    "### **Modulacion Adaptativa**"
   ]
  },
  {
   "cell_type": "code",
   "execution_count": 193,
   "metadata": {},
   "outputs": [],
   "source": [
    "class CanalAdaptativo:\n",
    "    def __init__(Nodo, inicial, aumento, disminucion):\n",
    "        Nodo.perdida = inicial\n",
    "        Nodo.aumento = aumento\n",
    "        Nodo.disminucion = disminucion\n",
    "\n",
    "    def transmitir(Nodo):\n",
    "        if random.random() < Nodo.aumento:\n",
    "            Nodo.perdida += 0.05\n",
    "        elif random.random() < Nodo.disminucion:\n",
    "            Nodo.perdida -= 0.05\n",
    "\n",
    "        if random.random() < Nodo.perdida:\n",
    "\n",
    "            return False\n",
    "        else:\n",
    "\n",
    "            return True"
   ]
  },
  {
   "cell_type": "code",
   "execution_count": 194,
   "metadata": {},
   "outputs": [],
   "source": [
    "def codificador(Paquetes,tamaño, opcion = 3):\n",
    "    if(opcion == 3):\n",
    "        simbolos = list(range(256))\n",
    "        codificado = []\n",
    "        for simbolo in Paquetes:\n",
    "            index = simbolos.index(simbolo)\n",
    "            codificado.append(index)\n",
    "            del simbolos[index]\n",
    "            simbolos.insert(0, simbolo)\n",
    "        return codificado\n",
    "    \n",
    "    elif(opcion == 4):\n",
    "        texto = ''.join(chr(int(caracter)) for caracter in Paquetes)\n",
    "        codificado = []\n",
    "        i = 0\n",
    "        while i < len(texto):\n",
    "            run_length = 1\n",
    "            while i + 1 < len(texto) and texto[i] == texto[i + 1]:\n",
    "                run_length += 1\n",
    "                i += 1\n",
    "            codificado.append((texto[i], run_length))\n",
    "            i += 1\n",
    "        return codificado\n",
    "    else:\n",
    "        return Paquetes\n",
    "    \n",
    "def sistemaAdaptativo(canales, paquetes):\n",
    "    intentos = 0\n",
    "    actual = random.choice(canales)\n",
    "    recibidos = []\n",
    "    perdidos = []\n",
    "    for paquete in paquetes:\n",
    "        exito = actual.transmitir()\n",
    "        if exito:\n",
    "            recibidos.append(paquete)\n",
    "        else:\n",
    "            perdidos.append(paquete)\n",
    "            print(\"Paquetes perdidos:\", perdidos)\n",
    "            while perdidos:\n",
    "                perdido = perdidos.pop(0)\n",
    "                exito = actual.transmitir()\n",
    "                intentos += 1\n",
    "                if exito:\n",
    "                    recibidos.append(perdido)\n",
    "        actual = random.choice(canales)\n",
    "    print(\"\\nPaquetes recibidos:\")\n",
    "    print(recibidos)\n",
    "    print(f\"\\nSe transmitieron los {len(paquetes)} paquetes con {intentos} intentos.\")\n",
    "    if intentos > 0:\n",
    "        print(\"Se requirió retransmisión debido a pérdida de paquetes.\\n\")\n",
    "\n",
    "def decodificador(Paquetes , raiz):\n",
    "    simbolos = list(range(256))  \n",
    "    decoficado = []\n",
    "    for index in Paquetes:\n",
    "        simbolo = simbolos[index]  \n",
    "        decoficado.append(simbolo)  \n",
    "        del simbolos[index]  \n",
    "        simbolos.insert(0, simbolo) \n",
    "    print(decoficado)\n",
    "    return decoficado\n",
    "\n",
    "def destino(decoded_text, output_file_path):\n",
    "    decoded_text_str = ''.join(str(item) for item in decoded_text)\n",
    "    with open(output_file_path, 'w', encoding='utf-8') as f:\n",
    "        f.write(decoded_text_str)\n",
    "    print(f\"\\nMensaje decodificado guardado en '{output_file_path}'\")\n",
    "\n",
    "def handshake(Paquetes, tamaño):\n",
    "    canales = [CanalAdaptativo(inicial=0.1, aumento=0.1, disminucion=0.1) for _ in range(6)]\n",
    "    codificado = codificador(Paquetes,tamaño)\n",
    "    sistemaAdaptativo(canales, codificado)\n",
    "    decoficado = decodificador(codificado, None)\n",
    "    decoficado = ''.join(chr(int(caracter)) for caracter in decoficado)\n",
    "    return decoficado\n"
   ]
  },
  {
   "cell_type": "code",
   "execution_count": 195,
   "metadata": {},
   "outputs": [
    {
     "name": "stdout",
     "output_type": "stream",
     "text": [
      "Paquetes perdidos: [109]\n",
      "Paquetes perdidos: [4]\n",
      "Paquetes perdidos: [4]\n",
      "Paquetes perdidos: [9]\n",
      "Paquetes perdidos: [109]\n",
      "Paquetes perdidos: [6]\n",
      "Paquetes perdidos: [15]\n",
      "Paquetes perdidos: [2]\n",
      "Paquetes perdidos: [2]\n",
      "Paquetes perdidos: [14]\n",
      "Paquetes perdidos: [2]\n",
      "\n",
      "Paquetes recibidos:\n",
      "[72, 111, 109, 99, 48, 37, 103, 115, 116, 7, 4, 4, 2, 117, 114, 2, 114, 5, 3, 5, 9, 113, 4, 6, 2, 2, 115, 117, 10, 4, 110, 8, 6, 6, 2, 6, 1, 3, 111, 14, 14, 10, 14, 115, 5, 7, 1, 6, 4, 63]\n",
      "\n",
      "Se transmitieron los 56 paquetes con 11 intentos.\n",
      "Se requirió retransmisión debido a pérdida de paquetes.\n",
      "\n",
      "[72, 111, 108, 97, 44, 32, 101, 115, 116, 111, 32, 101, 115, 32, 117, 110, 32, 109, 101, 110, 115, 97, 106, 101, 32, 100, 101, 32, 112, 114, 117, 101, 98, 97, 32, 112, 97, 114, 97, 32, 108, 97, 32, 99, 111, 109, 117, 110, 105, 99, 97, 99, 105, 111, 110, 46]\n",
      "\n",
      "Mensaje decodificado guardado en 'output.txt'\n"
     ]
    }
   ],
   "source": [
    "inputFilePath = \"input.txt\"\n",
    "outputFilePath = \"output.txt\"\n",
    "Paquetes = fuente(inputFilePath)\n",
    "ascii = [int(binary, 2) for binary in Paquetes]\n",
    "book = handshake(ascii,5)\n",
    "destino(book, outputFilePath)"
   ]
  }
 ],
 "metadata": {
  "kernelspec": {
   "display_name": "Python 3",
   "language": "python",
   "name": "python3"
  },
  "language_info": {
   "codemirror_mode": {
    "name": "ipython",
    "version": 3
   },
   "file_extension": ".py",
   "mimetype": "text/x-python",
   "name": "python",
   "nbconvert_exporter": "python",
   "pygments_lexer": "ipython3",
   "version": "3.9.13"
  }
 },
 "nbformat": 4,
 "nbformat_minor": 2
}
