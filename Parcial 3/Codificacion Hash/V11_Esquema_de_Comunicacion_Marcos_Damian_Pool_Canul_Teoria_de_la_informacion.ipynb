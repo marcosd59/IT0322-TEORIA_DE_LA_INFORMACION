{
 "cells": [
  {
   "cell_type": "markdown",
   "metadata": {},
   "source": [
    "# **Esquema de comunicación con Codificación Hash**"
   ]
  },
  {
   "cell_type": "markdown",
   "metadata": {},
   "source": [
    "### **Importamos las librerias**"
   ]
  },
  {
   "cell_type": "code",
   "execution_count": 216,
   "metadata": {},
   "outputs": [],
   "source": [
    "import hashlib\n",
    "import random\n",
    "from bitstring import BitArray\n",
    "from collections import Counter"
   ]
  },
  {
   "cell_type": "markdown",
   "metadata": {},
   "source": [
    "### **1. Fuente de información**"
   ]
  },
  {
   "cell_type": "code",
   "execution_count": 217,
   "metadata": {},
   "outputs": [],
   "source": [
    "def leer_archivo(nombre_archivo):\n",
    "    try:\n",
    "        with open(nombre_archivo, 'r') as archivo:\n",
    "            contenido = archivo.read()\n",
    "            return contenido\n",
    "    except FileNotFoundError:\n",
    "        print(f\"El archivo '{nombre_archivo}' no fue encontrado.\")\n",
    "        return \"\""
   ]
  },
  {
   "cell_type": "markdown",
   "metadata": {},
   "source": [
    "### **2. Transmisor**"
   ]
  },
  {
   "cell_type": "code",
   "execution_count": 218,
   "metadata": {},
   "outputs": [],
   "source": [
    "def Convertir_a_Lista(mensaje):\n",
    "  lista = []\n",
    "  for i in mensaje:\n",
    "    lista.append(i)\n",
    "  return lista"
   ]
  },
  {
   "cell_type": "code",
   "execution_count": 219,
   "metadata": {},
   "outputs": [],
   "source": [
    "def Convertir_a_String(lista):\n",
    "    return ''.join(lista)"
   ]
  },
  {
   "cell_type": "code",
   "execution_count": 220,
   "metadata": {},
   "outputs": [],
   "source": [
    "def Binario_a_Texto(binario):\n",
    "    bloques = [binario[i:i+8] for i in range(0, len(binario), 8)]\n",
    "    caracteres = [chr(int(bloque, 2)) for bloque in bloques]\n",
    "    texto = ''.join(caracteres)\n",
    "    return texto"
   ]
  },
  {
   "cell_type": "code",
   "execution_count": 221,
   "metadata": {},
   "outputs": [],
   "source": [
    "def Texto_a_Binario(mensaje):\n",
    "    bitsM = BitArray(bytes=mensaje.encode('utf-8'))\n",
    "    return bitsM.bin"
   ]
  },
  {
   "cell_type": "markdown",
   "metadata": {},
   "source": [
    "#### **Codificación Run Lengh Enconding**"
   ]
  },
  {
   "cell_type": "code",
   "execution_count": 222,
   "metadata": {},
   "outputs": [],
   "source": [
    "def CodificacionRunLengEnconding(cadena):\n",
    "  RunLengEnconding = []\n",
    "  contador = 1\n",
    "  simbolo = cadena[0]\n",
    "  RunLengEnconding.append(cadena[0])\n",
    "  for i in range(1,len(cadena)):\n",
    "    if(simbolo == cadena[i]):\n",
    "        contador = contador + 1\n",
    "    else:\n",
    "        RunLengEnconding.append(contador)\n",
    "        RunLengEnconding.append(cadena[i])\n",
    "        contador = 1\n",
    "        simbolo = cadena[i]\n",
    "\n",
    "  RunLengEnconding.append(contador)\n",
    "  Elemento = [str(elemento) for elemento in RunLengEnconding]\n",
    "\n",
    "  cadenaRLE = ''.join(Elemento)\n",
    "  return cadenaRLE"
   ]
  },
  {
   "cell_type": "markdown",
   "metadata": {},
   "source": [
    "#### **Codificación Hash**"
   ]
  },
  {
   "cell_type": "code",
   "execution_count": 223,
   "metadata": {},
   "outputs": [],
   "source": [
    "def FrecuenciasRelativas(lista_patrones):\n",
    "  contador = Counter(lista_patrones)\n",
    "  total_palabras = len(lista_patrones)\n",
    "  palabras = []\n",
    "  frecuencias_relativas = []\n",
    "\n",
    "  for palabra, count in contador.items():\n",
    "      palabras.append(palabra)\n",
    "      frecuencia_relativa = count / total_palabras\n",
    "      frecuencias_relativas.append(frecuencia_relativa)\n",
    "  palabras_ordenadas, frecuencias_ordenadas = zip(*sorted(zip(palabras, frecuencias_relativas), key=lambda x: x[1], reverse=True))\n",
    "\n",
    "  palabras_ordenadas = list(palabras_ordenadas)\n",
    "  frecuencias_ordenadas = list(frecuencias_ordenadas)\n",
    "\n",
    "  for i in range(0,len(frecuencias_ordenadas)-1):\n",
    "    suma =1e-12\n",
    "    for j in range(i,len(frecuencias_ordenadas)-1):\n",
    "      if(frecuencias_ordenadas[i] == frecuencias_ordenadas[j+1]):\n",
    "        frecuencias_ordenadas[j+1] = frecuencias_ordenadas[j+1] - suma\n",
    "        suma = suma + 1e-12\n",
    "      else:\n",
    "        break\n",
    "  return palabras_ordenadas, frecuencias_ordenadas"
   ]
  },
  {
   "cell_type": "code",
   "execution_count": 224,
   "metadata": {},
   "outputs": [],
   "source": [
    "def Transmisor(BinariList):\n",
    "  patrones, frecuencias = FrecuenciasRelativas(BinariList)\n",
    "  lista_RLE = []\n",
    "\n",
    "  for i in patrones:\n",
    "    lista_RLE.append(CodificacionRunLengEnconding(i))\n",
    "  return dict(zip(patrones,lista_RLE))"
   ]
  },
  {
   "cell_type": "code",
   "execution_count": 225,
   "metadata": {},
   "outputs": [],
   "source": [
    "def CodificarLista(BinariList,handshake):\n",
    "  codificar = []\n",
    "  for i in BinariList:\n",
    "    codificar.append(handshake[i])\n",
    "  return codificar"
   ]
  },
  {
   "cell_type": "code",
   "execution_count": 226,
   "metadata": {},
   "outputs": [],
   "source": [
    "def BorrarAleatorio(lista1, lista2):\n",
    "    if lista1 and lista2:\n",
    "        indice_aleatorio = random.randint(0, min(len(lista1), len(lista2)) - 1)\n",
    "        lista1.pop(indice_aleatorio)\n",
    "        valor_eliminado = lista2[indice_aleatorio]\n",
    "        lista2.pop(indice_aleatorio)\n",
    "        return lista1,lista2,valor_eliminado"
   ]
  },
  {
   "cell_type": "markdown",
   "metadata": {},
   "source": [
    "### **3. Canal**"
   ]
  },
  {
   "cell_type": "code",
   "execution_count": 227,
   "metadata": {},
   "outputs": [],
   "source": [
    "def Canal(paquete,indices,canales):\n",
    "  verdad = False\n",
    "  verdad_ruido = False\n",
    "  canal_usado = None\n",
    "  indice_eliminado = None\n",
    "  for i in range(0,len(canales)):\n",
    "    if(canales[i][0] == 0):\n",
    "      verdad = True\n",
    "      canal_usado = i\n",
    "      if(random.randint(0, 1)):\n",
    "        canales[i][0] = 1\n",
    "      canales[i][1] = paquete\n",
    "      canales[i][2] = indices\n",
    "      if(canales[i][0] == 1):\n",
    "        verdad_ruido = True\n",
    "        canales[i][1], canales[i][2],indice_eliminado = BorrarAleatorio(canales[i][1],canales[i][2])\n",
    "        for j in range(0,len(canales)):\n",
    "          canales[j][0] = 0\n",
    "      break\n",
    "\n",
    "  return canales,verdad_ruido,canal_usado,indice_eliminado"
   ]
  },
  {
   "cell_type": "markdown",
   "metadata": {},
   "source": [
    "### **Busqueda Binaria**"
   ]
  },
  {
   "cell_type": "code",
   "execution_count": 228,
   "metadata": {},
   "outputs": [],
   "source": [
    "def BusquedaBinaria(lista_valores, buscar):\n",
    "    inicio = 0\n",
    "    fin = len(lista_valores) - 1\n",
    "\n",
    "    while inicio <= fin:\n",
    "        medio = (inicio + fin) // 2\n",
    "\n",
    "        if lista_valores[medio] == buscar:\n",
    "            return medio\n",
    "        if buscar < lista_valores[medio]:\n",
    "            fin = medio - 1\n",
    "        else:\n",
    "            inicio = medio + 1\n",
    "    return -1"
   ]
  },
  {
   "cell_type": "code",
   "execution_count": 229,
   "metadata": {},
   "outputs": [],
   "source": [
    "def Ordenar(diccionario):\n",
    "  claves = [str(clave) for clave in diccionario.keys()]\n",
    "  valores = [str(valor) for valor in diccionario.values()]\n",
    "  claves_y_valores = list(zip(claves, valores))\n",
    "  claves_ordenadas = [clave for clave, valor in sorted(claves_y_valores, key=lambda x: x[1])]\n",
    "  valores.sort()\n",
    "  return claves_ordenadas,valores"
   ]
  },
  {
   "cell_type": "markdown",
   "metadata": {},
   "source": [
    "### **Genear Hash**"
   ]
  },
  {
   "cell_type": "markdown",
   "metadata": {},
   "source": [
    "Con ayuda de la libreria \"hashlib\""
   ]
  },
  {
   "cell_type": "code",
   "execution_count": 230,
   "metadata": {},
   "outputs": [],
   "source": [
    "def GenerarHash(dato):\n",
    "  bdatos = bytes(dato,'utf-8')\n",
    "  h = hashlib.new(\"sha256\",bdatos)\n",
    "  digest=h.hexdigest()\n",
    "  return digest"
   ]
  },
  {
   "cell_type": "markdown",
   "metadata": {},
   "source": [
    "### **Comparar Hash**"
   ]
  },
  {
   "cell_type": "code",
   "execution_count": 231,
   "metadata": {},
   "outputs": [],
   "source": [
    "def CompararHash(cadenaList,claves,valores):\n",
    "  indice = BusquedaBinaria(valores, cadenaList)\n",
    "\n",
    "  if(indice != -1):\n",
    "    return claves[indice]\n",
    "  else:\n",
    "    return \"x\""
   ]
  },
  {
   "cell_type": "code",
   "execution_count": 232,
   "metadata": {},
   "outputs": [],
   "source": [
    "def Decoficar(Lista_codificada,handshake):\n",
    "  decodificar = []\n",
    "  diccionario_hash = {clave: GenerarHash(valor) for clave, valor in handshake.items()}\n",
    "  claves_ordenados,valores_ordenados = Ordenar(diccionario_hash)\n",
    "\n",
    "  for i in Lista_codificada:\n",
    "    decodificar.append(CompararHash(i,claves_ordenados,valores_ordenados))\n",
    "  return decodificar"
   ]
  },
  {
   "cell_type": "markdown",
   "metadata": {},
   "source": [
    "### **4. Receptor**"
   ]
  },
  {
   "cell_type": "code",
   "execution_count": 233,
   "metadata": {},
   "outputs": [],
   "source": [
    "def Receptor(mensaje_codificado,reglas):\n",
    "  canales_usado = [[0,None,None],[0,None,None],[0,None,None],[0,None,None]]\n",
    "  paquete = []\n",
    "  indices = []\n",
    "  recibe_paquetes = lista_nula = [None] * len(mensaje_codificado)\n",
    "  tamaño = len(mensaje_codificado)\n",
    "  contador = 0\n",
    "  suma = 4\n",
    "\n",
    "  while contador < tamaño:\n",
    "    for i in range(contador,contador+suma):\n",
    "      if i != (tamaño):\n",
    "        paquete.append(mensaje_codificado[i])\n",
    "        indices.append(i)\n",
    "      else:\n",
    "        contador = contador + suma\n",
    "        break\n",
    "\n",
    "    contador = contador + suma\n",
    "    canales_usado,verdad_ruido,canal_usado,indice_eliminado = Canal(paquete,indices,canales_usado)\n",
    "    paquete = []\n",
    "    indices = []\n",
    "\n",
    "    if indice_eliminado == None:\n",
    "      suma = 4\n",
    "    else:\n",
    "      suma = 3\n",
    "      paquete.append(mensaje_codificado[indice_eliminado])\n",
    "      indices.append(indice_eliminado)\n",
    "\n",
    "\n",
    "    valores_obtenido = canales_usado[canal_usado][1]\n",
    "    indices_de_valores = canales_usado[canal_usado][2]\n",
    "\n",
    "    for valorEnviado, indiceEnviado in zip(valores_obtenido, indices_de_valores):\n",
    "      recibe_paquetes[indiceEnviado] = valorEnviado\n",
    "\n",
    "  if paquete:\n",
    "    recibe_paquetes[indices[0]] = paquete[0]\n",
    "  decodificar = Decoficar(recibe_paquetes,reglas)\n",
    "  return decodificar"
   ]
  },
  {
   "cell_type": "markdown",
   "metadata": {},
   "source": [
    "### **5. Destino de información**"
   ]
  },
  {
   "cell_type": "code",
   "execution_count": 234,
   "metadata": {},
   "outputs": [
    {
     "name": "stdout",
     "output_type": "stream",
     "text": [
      "Mensaje enviado: Hola, este es un mensaje de prueba para la comunicacion.\n",
      "\n",
      "Mensaje codificado: ['0111021103', '01120114', '0112011202', '01120411', '0211011202', '021105', '011202110111', '01130212', '0113011102', '011202110111', '021105', '011202110111', '01130212', '021105', '011301110111', '0112011301', '021105', '011201120111', '011202110111', '0112011301', '01130212', '01120411', '01120111011101', '011202110111', '021105', '0112021102', '011202110111', '021105', '011304', '0113021101', '011301110111', '011202110111', '0112031101', '01120411', '021105', '011304', '01120411', '0113021101', '01120411', '021105', '0112011202', '01120411', '021105', '01120312', '01120114', '011201120111', '011301110111', '0112011301', '011201110211', '01120312', '01120411', '01120312', '011201110211', '01120114', '0112011301', '0211011301']\n",
      "\n",
      "Mensaje con SHA256: ['a70ca45d5e91b2b1526b41ce0ffc58b83af7befdfed4ed5fb6cb07b0914e821b', '78c0cb3864f477241ec25d5d12bdb52d5c1c2bd99ef73d26d5530d0933cbaa04', '0137f085c4162f6be7d5e0fee45502aaf2751a2f2aa892a8519959669797b37f', '2d36eca66180c67b92d6ba488ac6224b13ac261426f3a5b1b3716eef1bbbaffe', 'febc41114ea7c00cf1f27bd3658801161070fe7892c485dbe394629d44337373', 'ace4557121619756012b244fe83c7c4b1240727b40de1a86879a78ea4f6d3497', '9ec8c12056a532cb0ebb751d8644e0e1426addee0ec43ff65b998bd9e19c8408', 'ff5a55bb9a981542525aba5d073830d98bfb16e55a17843770dc8350726ac508', '3d21e3e123201c94ac70d94b9010d5d479f27346fb1943a5392216aa5f909577', '9ec8c12056a532cb0ebb751d8644e0e1426addee0ec43ff65b998bd9e19c8408', 'ace4557121619756012b244fe83c7c4b1240727b40de1a86879a78ea4f6d3497', '9ec8c12056a532cb0ebb751d8644e0e1426addee0ec43ff65b998bd9e19c8408', 'ff5a55bb9a981542525aba5d073830d98bfb16e55a17843770dc8350726ac508', 'ace4557121619756012b244fe83c7c4b1240727b40de1a86879a78ea4f6d3497', 'f8e4ae919579fe3b21e59ce1a7824697af9346418bc8b3552392c5e2bd3be21c', '70ca09a1a7bc93ffa9a2cdb55ba05abd7c145eff3681c03cac37d655b0323b27', 'ace4557121619756012b244fe83c7c4b1240727b40de1a86879a78ea4f6d3497', '1474f5de57b2f1ccbc290bae11a4015b5c4d81aa0f9f56d4d171fef7cd025cb5', '9ec8c12056a532cb0ebb751d8644e0e1426addee0ec43ff65b998bd9e19c8408', '70ca09a1a7bc93ffa9a2cdb55ba05abd7c145eff3681c03cac37d655b0323b27', 'ff5a55bb9a981542525aba5d073830d98bfb16e55a17843770dc8350726ac508', '2d36eca66180c67b92d6ba488ac6224b13ac261426f3a5b1b3716eef1bbbaffe', 'bb77194e2ee804f60243a119fde90690357bbd513a3de04c5d7a42d5f0530765', '9ec8c12056a532cb0ebb751d8644e0e1426addee0ec43ff65b998bd9e19c8408', 'ace4557121619756012b244fe83c7c4b1240727b40de1a86879a78ea4f6d3497', '39de17c645e2090f0c07cb835649f749fc17df44c6c9cf59d2fb055fc450812d', '9ec8c12056a532cb0ebb751d8644e0e1426addee0ec43ff65b998bd9e19c8408', 'ace4557121619756012b244fe83c7c4b1240727b40de1a86879a78ea4f6d3497', 'db3ffd469c68fbea723bbbbd858dd417716e3c1f06f6f502e1a16abb9795435b', '534365f766b7cb28b00b3dc9be50c4bb9400bedf957798db63388145d2ad32fb', 'f8e4ae919579fe3b21e59ce1a7824697af9346418bc8b3552392c5e2bd3be21c', '9ec8c12056a532cb0ebb751d8644e0e1426addee0ec43ff65b998bd9e19c8408', '0d98cede6f8c109b35319070888a49315785d127374d4943b7c6698fe2475992', '2d36eca66180c67b92d6ba488ac6224b13ac261426f3a5b1b3716eef1bbbaffe', 'ace4557121619756012b244fe83c7c4b1240727b40de1a86879a78ea4f6d3497', 'db3ffd469c68fbea723bbbbd858dd417716e3c1f06f6f502e1a16abb9795435b', '2d36eca66180c67b92d6ba488ac6224b13ac261426f3a5b1b3716eef1bbbaffe', '534365f766b7cb28b00b3dc9be50c4bb9400bedf957798db63388145d2ad32fb', '2d36eca66180c67b92d6ba488ac6224b13ac261426f3a5b1b3716eef1bbbaffe', 'ace4557121619756012b244fe83c7c4b1240727b40de1a86879a78ea4f6d3497', '0137f085c4162f6be7d5e0fee45502aaf2751a2f2aa892a8519959669797b37f', '2d36eca66180c67b92d6ba488ac6224b13ac261426f3a5b1b3716eef1bbbaffe', 'ace4557121619756012b244fe83c7c4b1240727b40de1a86879a78ea4f6d3497', '94aaa7c3212c16449dfdb701896be80e9f0c386bfc9269638ba47079f85e7aa3', '78c0cb3864f477241ec25d5d12bdb52d5c1c2bd99ef73d26d5530d0933cbaa04', '1474f5de57b2f1ccbc290bae11a4015b5c4d81aa0f9f56d4d171fef7cd025cb5', 'f8e4ae919579fe3b21e59ce1a7824697af9346418bc8b3552392c5e2bd3be21c', '70ca09a1a7bc93ffa9a2cdb55ba05abd7c145eff3681c03cac37d655b0323b27', '99b9c69ef02013c3ba36185d0518d7aef0403862c4671bf87c7a484fda387034', '94aaa7c3212c16449dfdb701896be80e9f0c386bfc9269638ba47079f85e7aa3', '2d36eca66180c67b92d6ba488ac6224b13ac261426f3a5b1b3716eef1bbbaffe', '94aaa7c3212c16449dfdb701896be80e9f0c386bfc9269638ba47079f85e7aa3', '99b9c69ef02013c3ba36185d0518d7aef0403862c4671bf87c7a484fda387034', '78c0cb3864f477241ec25d5d12bdb52d5c1c2bd99ef73d26d5530d0933cbaa04', '70ca09a1a7bc93ffa9a2cdb55ba05abd7c145eff3681c03cac37d655b0323b27', '4680e04c4ab5e39e2c223890ff82a71c310ca04df84947972dd3c55cbd6793af']\n",
      "\n",
      "|--------------------------|\n",
      "|          Simbolos        |\n",
      "|--------------------------|\n",
      "| 00100000 | 021105\n",
      "| 01100001 | 01120411\n",
      "| 01100101 | 011202110111\n",
      "| 01101110 | 0112011301\n",
      "| 01101111 | 01120114\n",
      "| 01110011 | 01130212\n",
      "| 01110101 | 011301110111\n",
      "| 01100011 | 01120312\n",
      "| 01101100 | 0112011202\n",
      "| 01101101 | 011201120111\n",
      "| 01110000 | 011304\n",
      "| 01110010 | 0113021101\n",
      "| 01101001 | 011201110211\n",
      "| 01001000 | 0111021103\n",
      "| 00101100 | 0211011202\n",
      "| 01110100 | 0113011102\n",
      "| 01101010 | 01120111011101\n",
      "| 01100100 | 0112021102\n",
      "| 01100010 | 0112031101\n",
      "| 00101110 | 0211011301\n",
      "|--------------------------|\n",
      "\n",
      "Mensaje recivido: Hola, este es un mensaje de prueba para la comunicacion.\n",
      "\n",
      "Mensaje decodificado guardado en 'output.txt'.\n"
     ]
    }
   ],
   "source": [
    "nombre_archivo_fuente = \"input.txt\"\n",
    "texto_original = leer_archivo(nombre_archivo_fuente)\n",
    "\n",
    "print(\"Mensaje enviado:\",texto_original)\n",
    "\n",
    "Lista = Convertir_a_Lista(texto_original)\n",
    "Binario = [Texto_a_Binario(caracter) for caracter in Lista]\n",
    "HandShake = Transmisor(Binario)\n",
    "Codificacion =  CodificarLista(Binario, HandShake)\n",
    "Hash = [GenerarHash(cadena) for cadena in Codificacion]\n",
    "\n",
    "print(\"\\nMensaje codificado:\", Codificacion)\n",
    "print(\"\\nMensaje con SHA256:\", Hash)\n",
    "print(\"\")\n",
    "print(\"|--------------------------|\")\n",
    "print(\"|          Simbolos        |\")\n",
    "print(\"|--------------------------|\")\n",
    "\n",
    "for clave, valor in HandShake.items():\n",
    "    print(f\"| {clave} | {valor}\")\n",
    "print(\"|--------------------------|\")\n",
    "\n",
    "texto_decodificado = Receptor(Hash,HandShake)\n",
    "mi_cadena = Convertir_a_String(texto_decodificado)\n",
    "texto_resultante = Binario_a_Texto(mi_cadena)\n",
    "\n",
    "print(\"\\nMensaje recivido:\",texto_resultante)\n",
    "\n",
    "with open(\"output.txt\", \"w\", encoding=\"utf-8\") as archivo_salida:\n",
    "    archivo_salida.write(texto_resultante)\n",
    "print()\n",
    "print(\"Mensaje decodificado guardado en 'output.txt'.\")"
   ]
  }
 ],
 "metadata": {
  "kernelspec": {
   "display_name": "Python 3",
   "language": "python",
   "name": "python3"
  },
  "language_info": {
   "codemirror_mode": {
    "name": "ipython",
    "version": 3
   },
   "file_extension": ".py",
   "mimetype": "text/x-python",
   "name": "python",
   "nbconvert_exporter": "python",
   "pygments_lexer": "ipython3",
   "version": "3.9.13"
  }
 },
 "nbformat": 4,
 "nbformat_minor": 2
}
