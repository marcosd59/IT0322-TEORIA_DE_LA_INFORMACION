{
 "cells": [
  {
   "cell_type": "code",
   "execution_count": 2,
   "metadata": {},
   "outputs": [
    {
     "name": "stdout",
     "output_type": "stream",
     "text": [
      "La entropía de lanzar una moneda justa es 1.0\n"
     ]
    }
   ],
   "source": [
    "import math\n",
    "\n",
    "def calcular_entropia(probabilidad):\n",
    "    if probabilidad <= 0 or probabilidad >= 1:\n",
    "        return \"La probabilidad debe estar entre 0 y 1\"\n",
    "\n",
    "    entropia = -math.log2(probabilidad)\n",
    "    return entropia\n",
    "\n",
    "# Ejemplo: Probabilidad de obtener cara en una moneda justa (0.5)\n",
    "probabilidad_moneda = 0.5\n",
    "entropia_moneda = calcular_entropia(probabilidad_moneda)\n",
    "print(f\"La entropía de lanzar una moneda justa es {entropia_moneda}\")"
   ]
  }
 ],
 "metadata": {
  "kernelspec": {
   "display_name": "Python 3",
   "language": "python",
   "name": "python3"
  },
  "language_info": {
   "codemirror_mode": {
    "name": "ipython",
    "version": 3
   },
   "file_extension": ".py",
   "mimetype": "text/x-python",
   "name": "python",
   "nbconvert_exporter": "python",
   "pygments_lexer": "ipython3",
   "version": "3.9.13"
  },
  "orig_nbformat": 4
 },
 "nbformat": 4,
 "nbformat_minor": 2
}
