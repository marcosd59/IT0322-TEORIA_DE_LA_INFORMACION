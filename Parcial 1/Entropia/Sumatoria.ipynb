{
 "cells": [
  {
   "cell_type": "code",
   "execution_count": 20,
   "metadata": {},
   "outputs": [
    {
     "name": "stdout",
     "output_type": "stream",
     "text": [
      "Números aleatorios generados: [16, 6, 7, 15, 4, 8, 17, 4, 9, 19]\n",
      "Entropía total: 3.12 bits\n",
      "Entropía con umbral [15, 16, 17, 18, 19, 20]: 2.00 bits\n",
      "Bits afectados por el umbral: 1.12 bits\n"
     ]
    }
   ],
   "source": [
    "import random\n",
    "import math\n",
    "\n",
    "# Función para calcular la entropía\n",
    "def calcular_entropia(datos):\n",
    "    total = len(datos)\n",
    "    probabilidad = [datos.count(x) / total for x in set(datos)]\n",
    "    entropia = -sum(p * math.log2(p) for p in probabilidad)\n",
    "    return entropia\n",
    "\n",
    "# Umbral y cantidad de números aleatorios\n",
    "UMBRAL = [15, 16, 17, 18, 19, 20]\n",
    "numeros_aleatorios = [random.randint(0, 20) for _ in range(10)]\n",
    "\n",
    "# Calcular la entropía\n",
    "entropia_total = calcular_entropia(numeros_aleatorios)\n",
    "entropia_con_umbral = calcular_entropia([x for x in numeros_aleatorios if x in UMBRAL])\n",
    "bits_afectados = entropia_total - entropia_con_umbral\n",
    "\n",
    "print(f\"Números aleatorios generados: {numeros_aleatorios}\")\n",
    "print(f\"Entropía total: {entropia_total:.2f} bits\")\n",
    "print(f\"Entropía con umbral {UMBRAL}: {entropia_con_umbral:.2f} bits\")\n",
    "print(f\"Bits afectados por el umbral: {bits_afectados:.2f} bits\")\n"
   ]
  },
  {
   "cell_type": "code",
   "execution_count": 66,
   "metadata": {},
   "outputs": [
    {
     "name": "stdout",
     "output_type": "stream",
     "text": [
      "Números aleatorios generados: [7, 6, 15, 18, 12, 9, 0, 8, 16, 12]\n",
      "Entropía total: 3.12 bits\n",
      "Entropía con umbral [15, 16, 17, 18, 19, 20]: 1.58 bits\n",
      "Bits afectados por el umbral: 1.54 bits\n"
     ]
    }
   ],
   "source": [
    "import random\n",
    "import math\n",
    "\n",
    "# Función para calcular la entropía\n",
    "def calcular_entropia(datos):\n",
    "    probabilidad = {}\n",
    "    total = len(datos)\n",
    "    \n",
    "    # Calcular la probabilidad de cada valor en los datos\n",
    "    for x in datos:\n",
    "        if x in probabilidad:\n",
    "            probabilidad[x] += 1\n",
    "        else:\n",
    "            probabilidad[x] = 1\n",
    "    \n",
    "    entropia = 0.0\n",
    "    \n",
    "    # Calcular la entropía usando la fórmula\n",
    "    for x in probabilidad:\n",
    "        p_x = probabilidad[x] / total\n",
    "        entropia -= p_x * math.log2(p_x)\n",
    "    \n",
    "    return entropia\n",
    "\n",
    "# Umbral y cantidad de números aleatorios\n",
    "UMBRAL = [15, 16, 17, 18, 19, 20]\n",
    "numeros_aleatorios = [random.randint(0, 20) for _ in range(10)]\n",
    "\n",
    "# Calcular la entropía total\n",
    "entropia_total = calcular_entropia(numeros_aleatorios)\n",
    "\n",
    "# Calcular la entropía con umbral\n",
    "numeros_con_umbral = [x for x in numeros_aleatorios if x in UMBRAL]\n",
    "entropia_con_umbral = calcular_entropia(numeros_con_umbral)\n",
    "\n",
    "bits_afectados = entropia_total - entropia_con_umbral\n",
    "\n",
    "print(f\"Números aleatorios generados: {numeros_aleatorios}\")\n",
    "print(f\"Entropía total: {entropia_total:.2f} bits\")\n",
    "print(f\"Entropía con umbral {UMBRAL}: {entropia_con_umbral:.2f} bits\")\n",
    "print(f\"Bits afectados por el umbral: {bits_afectados:.2f} bits\")\n"
   ]
  }
 ],
 "metadata": {
  "kernelspec": {
   "display_name": "Python 3",
   "language": "python",
   "name": "python3"
  },
  "language_info": {
   "codemirror_mode": {
    "name": "ipython",
    "version": 3
   },
   "file_extension": ".py",
   "mimetype": "text/x-python",
   "name": "python",
   "nbconvert_exporter": "python",
   "pygments_lexer": "ipython3",
   "version": "3.11.5"
  },
  "orig_nbformat": 4
 },
 "nbformat": 4,
 "nbformat_minor": 2
}
