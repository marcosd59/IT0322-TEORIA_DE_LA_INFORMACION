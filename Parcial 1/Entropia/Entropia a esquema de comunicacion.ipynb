{
 "cells": [
  {
   "cell_type": "code",
   "execution_count": 5,
   "metadata": {},
   "outputs": [
    {
     "name": "stdout",
     "output_type": "stream",
     "text": [
      "Mensaje Original: 1010101010\n",
      "Mensaje con Ruido: 0010111110\n",
      "Probabilidad de Error: 0.300\n",
      "Entropía del Error: 0.521 bits\n"
     ]
    }
   ],
   "source": [
    "import random\n",
    "import math\n",
    "\n",
    "# Función para calcular la entropía con la fórmula.\n",
    "def calcular_entropia(probabilidad):\n",
    "    entropia = 0.0\n",
    "    if probabilidad > 0:\n",
    "        entropia = -probabilidad * math.log2(probabilidad)\n",
    "    return entropia\n",
    "\n",
    "# Función para agregar ruido binario con una cierta probabilidad.\n",
    "def agregar_ruido_binario(cadena_binaria, probabilidad):\n",
    "    mensaje_con_ruido = \"\"\n",
    "    for bit in cadena_binaria:\n",
    "        if random.random() < probabilidad:\n",
    "            mensaje_con_ruido += '1' if bit == '0' else '0'\n",
    "        else:\n",
    "            mensaje_con_ruido += bit\n",
    "    return mensaje_con_ruido\n",
    "\n",
    "# Probabilidad de error al introducir ruido (puede ajustarse según sea necesario).\n",
    "probabilidad_de_error = 0.1\n",
    "\n",
    "# Crear un mensaje binario de ejemplo\n",
    "mensaje_original = \"1010101010\"\n",
    "mensaje_con_ruido = agregar_ruido_binario(mensaje_original, probabilidad_de_error)\n",
    "\n",
    "# Calcular la probabilidad de error en el mensaje\n",
    "errores = sum(1 for bit_original, bit_ruido in zip(mensaje_original, mensaje_con_ruido) if bit_original != bit_ruido)\n",
    "probabilidad_error = errores / len(mensaje_original)\n",
    "\n",
    "# Calcular la entropía de la probabilidad de error\n",
    "entropia_error = calcular_entropia(probabilidad_error)\n",
    "\n",
    "# Imprimir resultados\n",
    "print(\"Mensaje Original:\", mensaje_original)\n",
    "print(\"Mensaje con Ruido:\", mensaje_con_ruido)\n",
    "print(f\"Probabilidad de Error: {probabilidad_error:.3f}\")\n",
    "print(f\"Entropía del Error: {entropia_error:.3f} bits\")\n"
   ]
  }
 ],
 "metadata": {
  "kernelspec": {
   "display_name": "Python 3",
   "language": "python",
   "name": "python3"
  },
  "language_info": {
   "codemirror_mode": {
    "name": "ipython",
    "version": 3
   },
   "file_extension": ".py",
   "mimetype": "text/x-python",
   "name": "python",
   "nbconvert_exporter": "python",
   "pygments_lexer": "ipython3",
   "version": "3.11.5"
  },
  "orig_nbformat": 4
 },
 "nbformat": 4,
 "nbformat_minor": 2
}
