{
 "cells": [
  {
   "cell_type": "markdown",
   "metadata": {},
   "source": [
    "# **Marcos Damián Pool Canul** | `200300591@ucaribe.edu.mx`"
   ]
  },
  {
   "cell_type": "markdown",
   "metadata": {},
   "source": [
    "#IT0322 - Teoría de la Información\n",
    "\n",
    "### Otoño 2023\n",
    "\n",
    "### Simulacion de un esquema de comunicación\n",
    "\n",
    "### Alumno: Marcos Damián Pool Canul\n",
    "\n",
    "### Matricula: 200300591\n",
    "\n",
    "### **Profesor: *Carlos Francisco Paz Cuevas***"
   ]
  },
  {
   "cell_type": "markdown",
   "metadata": {},
   "source": [
    "# **Introducción**"
   ]
  },
  {
   "cell_type": "markdown",
   "metadata": {},
   "source": [
    "https://es.wikipedia.org/wiki/Teor%C3%ADa_de_comunicaci%C3%B3n"
   ]
  },
  {
   "cell_type": "markdown",
   "metadata": {},
   "source": [
    "La comunicación es un proceso fundamental en la interacción humana y tecnológica. Claude Shannon, un pionero en el campo de la teoría de la información, desarrolló un esquema de comunicación que sirve como base para entender cómo la información se transmite de un punto a otro a través de un medio, enfrentando desafíos como el ruido y la pérdida de datos.\n",
    "\n",
    "Este esquema consta de cinco componentes esenciales:\n",
    "\n",
    "1. **Fuente de Información:** Representa el origen de los datos que se desean transmitir. En nuestro caso, utilizaremos un archivo de texto como fuente de información.\n",
    "\n",
    "2. **Transmisor:** Es responsable de tomar los datos de la fuente y prepararlos para la transmisión. Convertiremos el texto en código ASCII y, opcionalmente, en representación binaria.\n",
    "\n",
    "3. **Canal:** El medio físico o técnico a través del cual se transmiten los datos. En este ejemplo, simularemos el canal y agregaremos ruido aleatorio para emular interferencias.\n",
    "\n",
    "4. **Receptor:** Recibe la señal del canal y, en nuestro caso, intentará corregir los errores introducidos por el ruido y decodificar los datos.\n",
    "\n",
    "5. **Destino de Información:** La ubicación final donde se utilizan los datos recibidos, que podría ser un usuario, una aplicación o cualquier entidad que requiera la información.\n",
    "\n",
    "A través de este proceso, exploraremos cómo los datos fluyen desde su origen hasta su destino, enfrentando desafíos en el camino, y cómo se recuperan y utilizan en su forma original o procesada en el destino de información. ¡Continuemos con la implementación de este esquema!"
   ]
  },
  {
   "cell_type": "markdown",
   "metadata": {},
   "source": [
    "# **Código**"
   ]
  },
  {
   "cell_type": "markdown",
   "metadata": {},
   "source": [
    "## 0. Entropia"
   ]
  },
  {
   "cell_type": "code",
   "execution_count": 1,
   "metadata": {},
   "outputs": [],
   "source": [
    "import random\n",
    "import math\n",
    "\n",
    "# Función para calcular la entropía con la fórmula.\n",
    "def calcular_entropia(probabilidad):\n",
    "    entropia = 0.0\n",
    "    if probabilidad > 0:\n",
    "        entropia = -probabilidad * math.log2(probabilidad)\n",
    "    return entropia"
   ]
  },
  {
   "cell_type": "markdown",
   "metadata": {},
   "source": [
    "## 1. Fuente de información"
   ]
  },
  {
   "cell_type": "markdown",
   "metadata": {},
   "source": [
    "> ***ChatGTP***"
   ]
  },
  {
   "cell_type": "code",
   "execution_count": 2,
   "metadata": {},
   "outputs": [
    {
     "name": "stdout",
     "output_type": "stream",
     "text": [
      "Mensaje: Hola, esto es un mensaje de prueba para la comunicaciÃ³n.\n"
     ]
    }
   ],
   "source": [
    "# 1. Fuente de información (leyendo un archivo de texto)\n",
    "\n",
    "def leer_archivo(nombre_archivo):\n",
    "    try:\n",
    "        with open(nombre_archivo, 'r') as archivo:\n",
    "            contenido = archivo.read()\n",
    "            return contenido\n",
    "    except FileNotFoundError:\n",
    "        print(f\"El archivo '{nombre_archivo}' no fue encontrado.\")\n",
    "        return \"\"\n",
    "\n",
    "nombre_archivo_fuente = \"fuente.txt\"\n",
    "\n",
    "contenido_fuente = leer_archivo(nombre_archivo_fuente)\n",
    "\n",
    "print(\"Mensaje:\", contenido_fuente)\n"
   ]
  },
  {
   "cell_type": "markdown",
   "metadata": {},
   "source": [
    "## 2. Transmisor"
   ]
  },
  {
   "cell_type": "code",
   "execution_count": 3,
   "metadata": {},
   "outputs": [
    {
     "name": "stdout",
     "output_type": "stream",
     "text": [
      "Mensaje en ASCII:  [72, 111, 108, 97, 44, 32, 101, 115, 116, 111, 32, 101, 115, 32, 117, 110, 32, 109, 101, 110, 115, 97, 106, 101, 32, 100, 101, 32, 112, 114, 117, 101, 98, 97, 32, 112, 97, 114, 97, 32, 108, 97, 32, 99, 111, 109, 117, 110, 105, 99, 97, 99, 105, 195, 179, 110, 46]\n",
      "Mensaje en Binario:  010010000110111101101100011000010010110000100000011001010111001101110100011011110010000001100101011100110010000001110101011011100010000001101101011001010110111001110011011000010110101001100101001000000110010001100101001000000111000001110010011101010110010101100010011000010010000001110000011000010111001001100001001000000110110001100001001000000110001101101111011011010111010101101110011010010110001101100001011000110110100111000011101100110110111000101110\n"
     ]
    }
   ],
   "source": [
    "# 2.Transmisor (conversion del mensaje)\n",
    "\n",
    "def texto_a_ascii(texto):\n",
    "    ascii_codigos = [ord(char) for char in texto]\n",
    "    return ascii_codigos\n",
    "\n",
    "if contenido_fuente:\n",
    "    fuente_informacion = texto_a_ascii(contenido_fuente)\n",
    "\n",
    "print(\"Mensaje en ASCII: \", fuente_informacion)\n",
    "\n",
    "def lista_ascii_a_binario(lista_ascii):\n",
    "    mensaje_binario = ''.join(format(char, '08b') for char in lista_ascii)\n",
    "    return mensaje_binario\n",
    "\n",
    "msj_binario = lista_ascii_a_binario(fuente_informacion)\n",
    "\n",
    "print(\"Mensaje en Binario: \", msj_binario)"
   ]
  },
  {
   "cell_type": "markdown",
   "metadata": {},
   "source": [
    "## 3. Canal"
   ]
  },
  {
   "cell_type": "code",
   "execution_count": 4,
   "metadata": {},
   "outputs": [],
   "source": [
    "import random\n",
    "\n",
    "def agregar_ruido_binario(cadena_binaria, probabilidad):\n",
    "    mensaje_con_ruido = \"\"\n",
    "    for bit in cadena_binaria:\n",
    "        if random.random() < probabilidad:\n",
    "            # Simulamos un error al cambiar el bit con probabilidad 'probabilidad'\n",
    "            mensaje_con_ruido += '1' if bit == '0' else '0'\n",
    "        else:\n",
    "            mensaje_con_ruido += bit\n",
    "    return mensaje_con_ruido"
   ]
  },
  {
   "cell_type": "code",
   "execution_count": 5,
   "metadata": {},
   "outputs": [
    {
     "name": "stdout",
     "output_type": "stream",
     "text": [
      "010010000110111101101100011001010010010000100000011001010111001101010100011011110010000001100100011100110010000001110101001111100010000001111101011001010010111001110011011000010110101001100101001000000110010001100101001000000111000001110010011101010110010101100110011000010010000000110000011000010111001001101001011000000110110001100001001000000110001101101111101111010111010101101110111010010110001101100001001000110110100110000011101100110110111000101110\n"
     ]
    }
   ],
   "source": [
    "probabilidad_ruido = 0.04  # Ajusta la probabilidad de ruido según tu preferencia\n",
    "cadena_con_ruido = agregar_ruido_binario(msj_binario, probabilidad_ruido)\n",
    "print(cadena_con_ruido)"
   ]
  },
  {
   "cell_type": "markdown",
   "metadata": {},
   "source": [
    "## 4. Receptor"
   ]
  },
  {
   "cell_type": "markdown",
   "metadata": {},
   "source": [
    "> ***ChatGTP***"
   ]
  },
  {
   "cell_type": "code",
   "execution_count": 6,
   "metadata": {},
   "outputs": [],
   "source": [
    "def binario_a_ascii(binario):\n",
    "    # Divide la cadena binaria en segmentos de 8 bits y conviértelos a valores ASCII\n",
    "    ascii_codigos = [int(binario[i:i+8], 2) for i in range(0, len(binario), 8)]\n",
    "\n",
    "    # Convierte los códigos ASCII a caracteres y forma el mensaje de texto\n",
    "    mensaje_texto = \"\".join(chr(codigo) for codigo in ascii_codigos)\n",
    "\n",
    "    return mensaje_texto"
   ]
  },
  {
   "cell_type": "code",
   "execution_count": 7,
   "metadata": {},
   "outputs": [],
   "source": [
    "mensaje_recibido = binario_a_ascii(cadena_con_ruido)"
   ]
  },
  {
   "cell_type": "markdown",
   "metadata": {},
   "source": [
    "## 5. Destino de información"
   ]
  },
  {
   "cell_type": "code",
   "execution_count": 8,
   "metadata": {},
   "outputs": [
    {
     "name": "stdout",
     "output_type": "stream",
     "text": [
      "Mensaje Original: Hola, esto es un mensaje de prueba para la comunicaciÃ³n.\n",
      "Mensaje Recibido: Hole$ esTo ds u> }e.saje de pruefa 0ari`la co½unéca#i³n.\n"
     ]
    }
   ],
   "source": [
    "# 5. Destino de Información (Destinatario)\n",
    "\n",
    "# Imprimir el mensaje en el destinatario\n",
    "print(\"Mensaje Original:\", contenido_fuente)\n",
    "print(\"Mensaje Recibido:\", mensaje_recibido)"
   ]
  },
  {
   "cell_type": "code",
   "execution_count": 9,
   "metadata": {},
   "outputs": [
    {
     "name": "stdout",
     "output_type": "stream",
     "text": [
      "Mensaje Original: Hola, esto es un mensaje de prueba para la comunicaciÃ³n.\n",
      "Mensaje con Ruido: Hole$ esTo ds u> }e.saje de pruefa 0ari`la co½unéca#i³n.\n",
      "Probabilidad de Error: 0.263\n",
      "Entropía del Error: 0.507 bits\n"
     ]
    }
   ],
   "source": [
    "# Calcular la probabilidad de error en el mensaje\n",
    "errores = sum(1 for bit_original, bit_ruido in zip(contenido_fuente, mensaje_recibido) if bit_original != bit_ruido)\n",
    "probabilidad_error = errores / len(contenido_fuente)\n",
    "\n",
    "# Calcular la entropía de la probabilidad de error\n",
    "entropia_error = calcular_entropia(probabilidad_error)\n",
    "\n",
    "# Imprimir resultados\n",
    "print(\"Mensaje Original:\", contenido_fuente)\n",
    "print(\"Mensaje con Ruido:\", mensaje_recibido)\n",
    "print(f\"Probabilidad de Error: {probabilidad_error:.3f}\")\n",
    "print(f\"Entropía del Error: {entropia_error:.3f} bits\")\n"
   ]
  }
 ],
 "metadata": {
  "kernelspec": {
   "display_name": "Python 3",
   "language": "python",
   "name": "python3"
  },
  "language_info": {
   "codemirror_mode": {
    "name": "ipython",
    "version": 3
   },
   "file_extension": ".py",
   "mimetype": "text/x-python",
   "name": "python",
   "nbconvert_exporter": "python",
   "pygments_lexer": "ipython3",
   "version": "3.11.5"
  },
  "orig_nbformat": 4
 },
 "nbformat": 4,
 "nbformat_minor": 2
}
