{
  "cells": [
    {
      "cell_type": "markdown",
      "metadata": {},
      "source": [
        "# **Marcos Damián Pool Canul** | `200300591@ucaribe.edu.mx`"
      ]
    },
    {
      "cell_type": "markdown",
      "metadata": {},
      "source": [
        "#IT0322 - Teoría de la Información\n",
        "\n",
        "### Otoño 2023\n",
        "\n",
        "### Simulacion de un esquema de comunicación\n",
        "\n",
        "### Alumno: Marcos Damián Pool Canul\n",
        "\n",
        "### Matricula: 200300591\n",
        "\n",
        "### **Profesor: *Carlos Francisco Paz Cuevas***"
      ]
    },
    {
      "cell_type": "markdown",
      "metadata": {},
      "source": [
        "## Primera version de un esquema de comunicacion basico"
      ]
    },
    {
      "cell_type": "code",
      "execution_count": 3,
      "metadata": {
        "colab": {
          "base_uri": "https://localhost:8080/"
        },
        "id": "8uXMogf5xrAR",
        "outputId": "107ced49-5fcf-4d03-b546-3e8dda9af3ad"
      },
      "outputs": [
        {
          "name": "stdout",
          "output_type": "stream",
          "text": [
            "Fuente de Información:  Mensaje de prueba\n",
            "Mensaje Transmitido:  Mensaje de prueba\n",
            "Mensaje con Ruido:  0ensaj0 00 prueba\n",
            "Mensaje Recibido:  0ensaj0 00 prueba\n",
            "Mensaje en el Destino:  0ensaj0 00 prueba\n"
          ]
        }
      ],
      "source": [
        "import random\n",
        "\n",
        "# 1. Fuente de información\n",
        "fuente_informacion = \"Mensaje de prueba\"\n",
        "\n",
        "# 2. Transmisor (no hace cambios)\n",
        "mensaje_transmitido = fuente_informacion\n",
        "\n",
        "# 3. Canal con ruido aleatorio\n",
        "def agregar_ruido(mensaje, probabilidad):\n",
        "    mensaje_con_ruido = \"\"\n",
        "    for bit in mensaje:\n",
        "        if random.random() < probabilidad:\n",
        "            # Simulamos un error al cambiar el bit con probabilidad 'probabilidad'\n",
        "            mensaje_con_ruido += '1' if bit == '0' else '0'\n",
        "        else:\n",
        "            mensaje_con_ruido += bit\n",
        "    return mensaje_con_ruido\n",
        "\n",
<<<<<<< HEAD
        "probabilidad_ruido = 0.2  # Ajusta la probabilidad de ruido.\n",
=======
        "probabilidad_ruido = 0.1  # Ajusta la probabilidad de ruido\n",
>>>>>>> 4066ae838b6eda7ec39195b78012fd00965f8282
        "mensaje_con_ruido = agregar_ruido(mensaje_transmitido, probabilidad_ruido)\n",
        "\n",
        "# 4. Receptor (no hace cambios)\n",
        "mensaje_recibido = mensaje_con_ruido\n",
        "\n",
        "# 5. Destino de información (solo imprime la informacion)\n",
        "mensaje_destino = mensaje_recibido\n",
        "\n",
        "# Resultados\n",
        "print(\"Fuente de Información: \", fuente_informacion)\n",
        "print(\"Mensaje Transmitido: \", mensaje_transmitido)\n",
        "print(\"Mensaje con Ruido: \", mensaje_con_ruido)\n",
        "print(\"Mensaje Recibido: \", mensaje_recibido)\n",
        "print(\"Mensaje en el Destino: \", mensaje_destino)"
      ]
    }
  ],
  "metadata": {
    "colab": {
      "provenance": []
    },
    "kernelspec": {
      "display_name": "Python 3",
      "name": "python3"
    },
    "language_info": {
      "codemirror_mode": {
        "name": "ipython",
        "version": 3
      },
      "file_extension": ".py",
      "mimetype": "text/x-python",
      "name": "python",
      "nbconvert_exporter": "python",
      "pygments_lexer": "ipython3",
      "version": "3.11.5"
    }
  },
  "nbformat": 4,
  "nbformat_minor": 0
}
