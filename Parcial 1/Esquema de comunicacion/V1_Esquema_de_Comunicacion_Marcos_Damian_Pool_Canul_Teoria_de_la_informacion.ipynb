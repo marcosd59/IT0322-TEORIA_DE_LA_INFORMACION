{
 "cells": [
  {
   "cell_type": "code",
   "execution_count": 1,
   "metadata": {},
   "outputs": [
    {
     "name": "stdout",
     "output_type": "stream",
     "text": [
      "Fuente de Información:  Mensaje de prueba\n",
      "Mensaje Transmitido:  Mensaje de prueba\n",
      "Mensaje con Ruido:  0e00aje de pru0ba\n",
      "Mensaje Recibido:  0e00aje de pru0ba\n",
      "Mensaje en el Destino:  0e00aje de pru0ba\n"
     ]
    }
   ],
   "source": [
    "import random\n",
    "\n",
    "# 1. Fuente de información\n",
    "fuente_informacion = \"Mensaje de prueba\"\n",
    "\n",
    "# 2. Transmisor (no hace cambios en este ejemplo)\n",
    "mensaje_transmitido = fuente_informacion\n",
    "\n",
    "# 3. Canal con ruido aleatorio\n",
    "def agregar_ruido(mensaje, probabilidad):\n",
    "    mensaje_con_ruido = \"\"\n",
    "    for bit in mensaje:\n",
    "        if random.random() < probabilidad:\n",
    "            # Simulamos un error al cambiar el bit con probabilidad 'probabilidad'\n",
    "            mensaje_con_ruido += '1' if bit == '0' else '0'\n",
    "        else:\n",
    "            mensaje_con_ruido += bit\n",
    "    return mensaje_con_ruido\n",
    "\n",
    "probabilidad_ruido = 0.1  # Ajusta la probabilidad de ruido según tu preferencia\n",
    "mensaje_con_ruido = agregar_ruido(mensaje_transmitido, probabilidad_ruido)\n",
    "\n",
    "# 4. Receptor (no hace cambios en este ejemplo)\n",
    "mensaje_recibido = mensaje_con_ruido\n",
    "\n",
    "# 5. Destino de información (no hace cambios en este ejemplo)\n",
    "mensaje_destino = mensaje_recibido\n",
    "\n",
    "# Resultados\n",
    "print(\"Fuente de Información: \", fuente_informacion)\n",
    "print(\"Mensaje Transmitido: \", mensaje_transmitido)\n",
    "print(\"Mensaje con Ruido: \", mensaje_con_ruido)\n",
    "print(\"Mensaje Recibido: \", mensaje_recibido)\n",
    "print(\"Mensaje en el Destino: \", mensaje_destino)"
   ]
  }
 ],
 "metadata": {
  "kernelspec": {
   "display_name": "Python 3",
   "language": "python",
   "name": "python3"
  },
  "language_info": {
   "codemirror_mode": {
    "name": "ipython",
    "version": 3
   },
   "file_extension": ".py",
   "mimetype": "text/x-python",
   "name": "python",
   "nbconvert_exporter": "python",
   "pygments_lexer": "ipython3",
   "version": "3.11.6"
  },
  "orig_nbformat": 4
 },
 "nbformat": 4,
 "nbformat_minor": 2
}
