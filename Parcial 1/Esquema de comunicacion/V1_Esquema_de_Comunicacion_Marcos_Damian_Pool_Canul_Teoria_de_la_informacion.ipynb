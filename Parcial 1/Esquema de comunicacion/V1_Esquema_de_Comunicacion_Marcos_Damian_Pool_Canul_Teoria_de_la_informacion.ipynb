{
  "nbformat": 4,
  "nbformat_minor": 0,
  "metadata": {
    "colab": {
      "provenance": []
    },
    "kernelspec": {
      "name": "python3",
      "display_name": "Python 3"
    },
    "language_info": {
      "name": "python"
    }
  },
  "cells": [
    {
      "cell_type": "code",
      "source": [
        "import random\n",
        "\n",
        "# 1. Fuente de información\n",
        "fuente_informacion = \"Mensaje de prueba\"\n",
        "\n",
        "# 2. Transmisor (no hace cambios)\n",
        "mensaje_transmitido = fuente_informacion\n",
        "\n",
        "# 3. Canal con ruido aleatorio\n",
        "def agregar_ruido(mensaje, probabilidad):\n",
        "    mensaje_con_ruido = \"\"\n",
        "    for bit in mensaje:\n",
        "        if random.random() < probabilidad:\n",
        "            # Simulamos un error al cambiar el bit con probabilidad 'probabilidad'\n",
        "            mensaje_con_ruido += '1' if bit == '0' else '0'\n",
        "        else:\n",
        "            mensaje_con_ruido += bit\n",
        "    return mensaje_con_ruido\n",
        "\n",
        "probabilidad_ruido = 0.1  # Ajusta la probabilidad de ruido\n",
        "mensaje_con_ruido = agregar_ruido(mensaje_transmitido, probabilidad_ruido)\n",
        "\n",
        "# 4. Receptor (no hace cambios en este ejemplo)\n",
        "mensaje_recibido = mensaje_con_ruido\n",
        "\n",
        "# 5. Destino de información (no hace cambios en este ejemplo)\n",
        "mensaje_destino = mensaje_recibido\n",
        "\n",
        "# Resultados\n",
        "print(\"Fuente de Información: \", fuente_informacion)\n",
        "print(\"Mensaje Transmitido: \", mensaje_transmitido)\n",
        "print(\"Mensaje con Ruido: \", mensaje_con_ruido)\n",
        "print(\"Mensaje Recibido: \", mensaje_recibido)\n",
        "print(\"Mensaje en el Destino: \", mensaje_destino)"
      ],
      "metadata": {
        "id": "8uXMogf5xrAR",
        "outputId": "107ced49-5fcf-4d03-b546-3e8dda9af3ad",
        "colab": {
          "base_uri": "https://localhost:8080/"
        }
      },
      "execution_count": null,
      "outputs": [
        {
          "output_type": "stream",
          "name": "stdout",
          "text": [
            "Fuente de Información:  Mensaje de prueba\n",
            "Mensaje Transmitido:  Mensaje de prueba\n",
            "Mensaje con Ruido:  Mensaje d0 prueb0\n",
            "Mensaje Recibido:  Mensaje d0 prueb0\n",
            "Mensaje en el Destino:  Mensaje d0 prueb0\n"
          ]
        }
      ]
    }
  ]
}
