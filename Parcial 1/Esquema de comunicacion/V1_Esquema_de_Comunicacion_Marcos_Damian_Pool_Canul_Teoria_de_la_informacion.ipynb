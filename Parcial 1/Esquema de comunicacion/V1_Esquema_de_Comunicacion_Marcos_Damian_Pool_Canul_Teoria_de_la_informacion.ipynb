{
 "cells": [
  {
   "cell_type": "code",
   "execution_count": 3,
   "metadata": {},
   "outputs": [
    {
     "name": "stdout",
     "output_type": "stream",
     "text": [
      "Mensaje Original: Hola, esto es un mensaje de prueba.\n",
      "Mensaje Recibido: Hola, esto es un mensaje de prueba.\n"
     ]
    }
   ],
   "source": [
    "# Punto 1: Fuente de Información\n",
    "mensaje_fuente = \"Hola, esto es un mensaje de prueba.\"\n",
    "\n",
    "# Punto 2: Transmisor\n",
    "def codificar_mensaje(texto):\n",
    "    mensaje_codificado = \"\".join(format(ord(char), '08b') for char in texto)\n",
    "    return mensaje_codificado\n",
    "\n",
    "mensaje_codificado = codificar_mensaje(mensaje_fuente)\n",
    "\n",
    "# Punto 3: Canal de Comunicación (Simulado)\n",
    "# Supondremos que el mensaje se transmite sin errores en este ejemplo.\n",
    "\n",
    "# Punto 4: Receptor\n",
    "def decodificar_mensaje(mensaje_codificado):\n",
    "    mensaje_decodificado = \"\"\n",
    "    for i in range(0, len(mensaje_codificado), 8):\n",
    "        byte = mensaje_codificado[i:i+8]\n",
    "        caracter = chr(int(byte, 2))\n",
    "        mensaje_decodificado += caracter\n",
    "    return mensaje_decodificado\n",
    "\n",
    "mensaje_recibido = decodificar_mensaje(mensaje_codificado)\n",
    "\n",
    "# Punto 5: Destino de Información\n",
    "print(\"Mensaje Original:\", mensaje_fuente)\n",
    "print(\"Mensaje Recibido:\", mensaje_recibido)\n"
   ]
  }
 ],
 "metadata": {
  "kernelspec": {
   "display_name": "Python 3",
   "language": "python",
   "name": "python3"
  },
  "language_info": {
   "codemirror_mode": {
    "name": "ipython",
    "version": 3
   },
   "file_extension": ".py",
   "mimetype": "text/x-python",
   "name": "python",
   "nbconvert_exporter": "python",
   "pygments_lexer": "ipython3",
   "version": "3.11.5"
  },
  "orig_nbformat": 4
 },
 "nbformat": 4,
 "nbformat_minor": 2
}
