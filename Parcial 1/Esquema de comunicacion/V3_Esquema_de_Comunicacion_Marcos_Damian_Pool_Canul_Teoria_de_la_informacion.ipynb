{
  "cells": [
    {
      "cell_type": "markdown",
      "metadata": {
        "id": "wT6dv1PcbNUS"
      },
      "source": [
        "# **Marcos Damián Pool Canul** | `200300591@ucaribe.edu.mx`"
      ]
    },
    {
      "cell_type": "markdown",
      "metadata": {},
      "source": [
        "## Version 3 - Imagen con ruido y entropia"
      ]
    },
    {
      "cell_type": "markdown",
      "metadata": {
        "id": "fno_bOzWbLFn"
      },
      "source": [
        "#IT0322 - Teoría de la Información\n",
        "\n",
        "### Otoño 2023\n",
        "\n",
        "### Simulacion de un esquema de comunicación\n",
        "\n",
        "### Alumno: Marcos Damián Pool Canul\n",
        "\n",
        "### Matricula: 200300591\n",
        "\n",
        "### **Profesor: *Carlos Francisco Paz Cuevas***"
      ]
    },
    {
      "cell_type": "markdown",
      "metadata": {
        "id": "3wrI7dTIbobu"
      },
      "source": [
        "# **Introducción**"
      ]
    },
    {
      "cell_type": "markdown",
      "metadata": {
        "id": "C0mmS9RIUC6f"
      },
      "source": [
        "La comunicación es un proceso fundamental en la interacción humana y tecnológica. Claude Shannon, un pionero en el campo de la teoría de la información, desarrolló un esquema de comunicación que sirve como base para entender cómo la información se transmite de un punto a otro a través de un medio, enfrentando desafíos como el ruido y la pérdida de datos.\n",
        "\n",
        "Este esquema consta de cinco componentes esenciales:\n",
        "\n",
        "1. **Fuente de Información:** Representa el origen de los datos que se desean transmitir. En nuestro caso, utilizaremos un archivo de texto como fuente de información.\n",
        "\n",
        "2. **Transmisor:** Es responsable de tomar los datos de la fuente y prepararlos para la transmisión. Convertiremos el texto en código ASCII y, opcionalmente, en representación binaria.\n",
        "\n",
        "3. **Canal:** El medio físico o técnico a través del cual se transmiten los datos. En este ejemplo, simularemos el canal y agregaremos ruido aleatorio para emular interferencias.\n",
        "\n",
        "4. **Receptor:** Recibe la señal del canal y, en nuestro caso, intentará corregir los errores introducidos por el ruido y decodificar los datos.\n",
        "\n",
        "5. **Destino de Información:** La ubicación final donde se utilizan los datos recibidos, que podría ser un usuario, una aplicación o cualquier entidad que requiera la información.\n",
        "\n",
        "A través de este proceso, exploraremos cómo los datos fluyen desde su origen hasta su destino, enfrentando desafíos en el camino, y cómo se recuperan y utilizan en su forma original o procesada en el destino de información. ¡Continuemos con la implementación de este esquema!"
      ]
    },
    {
      "cell_type": "markdown",
      "metadata": {
        "id": "XlcJTWRTcEo_"
      },
      "source": [
        "# **Código**"
      ]
    },
    {
      "cell_type": "code",
      "execution_count": 1,
      "metadata": {},
      "outputs": [],
      "source": [
        "#Importamos las librerias\n",
        "\n",
        "import random\n",
        "import math\n",
        "from PIL import Image, ImageDraw"
      ]
    },
    {
      "cell_type": "code",
      "execution_count": 2,
      "metadata": {},
      "outputs": [],
      "source": [
        "# pip install pillow"
      ]
    },
    {
      "cell_type": "markdown",
      "metadata": {},
      "source": [
        "# 0. Entropia"
      ]
    },
    {
      "cell_type": "code",
      "execution_count": 3,
      "metadata": {},
      "outputs": [],
      "source": [
        "# Función para calcular la entropía con la fórmula.\n",
        "def calcular_entropia(probabilidad):\n",
        "    entropia = 0.0\n",
        "    if probabilidad > 0:\n",
        "        entropia = -probabilidad * math.log2(probabilidad)\n",
        "    return entropia"
      ]
    },
    {
      "cell_type": "markdown",
      "metadata": {
        "id": "U3qdXP-xSlH-"
      },
      "source": [
        "## 1. Fuente de información"
      ]
    },
    {
      "cell_type": "code",
      "execution_count": 4,
      "metadata": {
        "colab": {
          "base_uri": "https://localhost:8080/"
        },
        "id": "s8S75guGSknE",
        "outputId": "70e43092-ca8e-4e43-9de7-bfe7c2525eff"
      },
      "outputs": [],
      "source": [
        "# Abrir una imagen en formato PNG llamada \"foto.png\".\n",
        "imagen = Image.open(\"foto.png\")"
      ]
    },
    {
      "cell_type": "markdown",
      "metadata": {
        "id": "1G1ffliZWuJU"
      },
      "source": [
        "## 2. Transmisor"
      ]
    },
    {
      "cell_type": "markdown",
      "metadata": {},
      "source": [
        "> ***ChatGTP***"
      ]
    },
    {
      "cell_type": "code",
      "execution_count": 5,
      "metadata": {
        "colab": {
          "base_uri": "https://localhost:8080/"
        },
        "id": "hMs_UumJWSWF",
        "outputId": "de05d8e7-ba07-4a14-90be-c6d5455ba7b4"
      },
      "outputs": [],
      "source": [
        "# Convertir la imagen en una cadena binaria (en este caso, se convertirá en una secuencia de píxeles).\n",
        "imagen_binaria = \"\".join(format(pixel, '08b') for pixel in imagen.tobytes())"
      ]
    },
    {
      "cell_type": "markdown",
      "metadata": {
        "id": "WqoAgYG3YB_A"
      },
      "source": [
        "## 3. Canal"
      ]
    },
    {
      "cell_type": "code",
      "execution_count": 6,
      "metadata": {
        "id": "V7BFMyf_YB14"
      },
      "outputs": [],
      "source": [
        "# Función para agregar ruido binario con una cierta probabilidad.\n",
        "def agregar_ruido_binario(cadena_binaria, probabilidad):\n",
        "    mensaje_con_ruido = \"\"\n",
        "    for bit in cadena_binaria:\n",
        "        if random.random() < probabilidad:\n",
        "            mensaje_con_ruido += '1' if bit == '0' else '0'\n",
        "        else:\n",
        "            mensaje_con_ruido += bit\n",
        "    return mensaje_con_ruido"
      ]
    },
    {
      "cell_type": "code",
      "execution_count": 7,
      "metadata": {},
      "outputs": [
        {
          "name": "stdout",
          "output_type": "stream",
          "text": [
            "0.0962795088875662\n"
          ]
        }
      ],
      "source": [
        "# Generar una probabilidad de error aleatoria entre 0 y 1.\n",
        "probabilidad_de_error = random.random()\n",
        "\n",
        "#Ajustar manualmente\n",
        "# probabilidad_de_error = 0.05\n",
        "print(probabilidad_de_error)"
      ]
    },
    {
      "cell_type": "code",
      "execution_count": 8,
      "metadata": {},
      "outputs": [],
      "source": [
        "# Simular la transmisión de la imagen con ruido.\n",
        "imagen_con_ruido = agregar_ruido_binario(imagen_binaria, probabilidad_de_error)"
      ]
    },
    {
      "cell_type": "code",
      "execution_count": 9,
      "metadata": {},
      "outputs": [
        {
          "name": "stdout",
          "output_type": "stream",
          "text": [
            "Errores 646307\n",
            "Entropia 0.0961766369047619\n"
          ]
        }
      ],
      "source": [
        "# Simular la transmisión de la imagen con ruido.\n",
        "imagen_con_ruido = agregar_ruido_binario(imagen_binaria, probabilidad_de_error)\n",
        "\n",
        "# Calcular la probabilidad de error en la imagen.\n",
        "errores = sum(1 for bit_original, bit_ruido in zip(imagen_binaria, imagen_con_ruido) if bit_original != bit_ruido)\n",
        "entropia = errores / len(imagen_binaria)\n",
        "\n",
        "print(\"Errores\", errores)\n",
        "print(\"Entropia\", entropia)\n",
        "\n",
        "# Calcular la entropía de la probabilidad de error.\n",
        "entropia_error = calcular_entropia(entropia)"
      ]
    },
    {
      "cell_type": "markdown",
      "metadata": {
        "id": "aHorUn54Z4N8"
      },
      "source": [
        "## 4. Receptor"
      ]
    },
    {
      "cell_type": "markdown",
      "metadata": {},
      "source": [
        "> ***ChatGTP***"
      ]
    },
    {
      "cell_type": "code",
      "execution_count": 10,
      "metadata": {
        "id": "VJ_6245iZ4At"
      },
      "outputs": [],
      "source": [
        "# Crear una nueva imagen a partir de la cadena binaria con ruido.\n",
        "ancho, alto = imagen.size\n",
        "imagen_con_ruido_bytes = bytes(int(imagen_con_ruido[i:i+8], 2) for i in range(0, len(imagen_con_ruido), 8))\n",
        "imagen_con_ruido = Image.frombytes(\"L\", (ancho, alto), imagen_con_ruido_bytes)"
      ]
    },
    {
      "cell_type": "markdown",
      "metadata": {
        "id": "MATiGxVjalU8"
      },
      "source": [
        "## 5. Destino de información"
      ]
    },
    {
      "cell_type": "code",
      "execution_count": 11,
      "metadata": {},
      "outputs": [
        {
          "name": "stdout",
          "output_type": "stream",
          "text": [
            "Imagen Original: <PIL.PngImagePlugin.PngImageFile image mode=RGB size=700x400 at 0x29697CD7690>\n",
            "Tamaño de la Imagen: (700, 400) píxeles\n",
            "Probabilidad de error: 9.63 %\n",
            "Entropia de error: 0.096\n",
            "Entropía del error (bits): 0.325 bits\n"
          ]
        }
      ],
      "source": [
        "# Imprimir resultados.\n",
        "print(\"Imagen Original:\", imagen)\n",
        "print(f\"Tamaño de la Imagen: {imagen.size} píxeles\")\n",
        "print(f\"Probabilidad de error: {probabilidad_de_error * 100:.3} %\")\n",
        "print(f\"Entropia de error: {entropia:.3f}\")\n",
        "print(f\"Entropía del error (bits): {entropia_error:.3f} bits\")\n",
        "\n",
        "# Mostrar la imagen sin ruido.\n",
        "imagen.show()\n",
        "\n",
        "# Mostrar la imagen con ruido.\n",
        "imagen_con_ruido.show()"
      ]
    }
  ],
  "metadata": {
    "colab": {
      "provenance": []
    },
    "kernelspec": {
      "display_name": "Python 3",
      "name": "python3"
    },
    "language_info": {
      "codemirror_mode": {
        "name": "ipython",
        "version": 3
      },
      "file_extension": ".py",
      "mimetype": "text/x-python",
      "name": "python",
      "nbconvert_exporter": "python",
      "pygments_lexer": "ipython3",
      "version": "3.11.6"
    }
  },
  "nbformat": 4,
  "nbformat_minor": 0
}
