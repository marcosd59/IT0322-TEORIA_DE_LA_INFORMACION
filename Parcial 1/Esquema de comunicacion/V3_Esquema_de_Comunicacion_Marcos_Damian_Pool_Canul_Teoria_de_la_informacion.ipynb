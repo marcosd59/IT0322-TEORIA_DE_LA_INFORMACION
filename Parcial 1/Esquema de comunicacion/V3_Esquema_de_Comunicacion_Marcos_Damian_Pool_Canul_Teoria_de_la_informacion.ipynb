{
  "cells": [
    {
      "cell_type": "markdown",
      "metadata": {
        "id": "wT6dv1PcbNUS"
      },
      "source": [
        "# **Marcos Damián Pool Canul** | `200300591@ucaribe.edu.mx`"
      ]
    },
    {
      "cell_type": "markdown",
      "metadata": {
        "id": "fno_bOzWbLFn"
      },
      "source": [
        "#IT0322 - Teoría de la Información\n",
        "\n",
        "### Otoño 2023\n",
        "\n",
        "### Simulacion de un esquema de comunicación\n",
        "\n",
        "### Alumno: Marcos Damián Pool Canul\n",
        "\n",
        "### Matricula: 200300591\n",
        "\n",
        "### **Profesor: *Carlos Francisco Paz Cuevas***"
      ]
    },
    {
      "cell_type": "markdown",
      "metadata": {
        "id": "3wrI7dTIbobu"
      },
      "source": [
        "# **Introducción**"
      ]
    },
    {
      "cell_type": "markdown",
      "metadata": {
        "id": "C0mmS9RIUC6f"
      },
      "source": [
        "La comunicación es un proceso fundamental en la interacción humana y tecnológica. Claude Shannon, un pionero en el campo de la teoría de la información, desarrolló un esquema de comunicación que sirve como base para entender cómo la información se transmite de un punto a otro a través de un medio, enfrentando desafíos como el ruido y la pérdida de datos.\n",
        "\n",
        "Este esquema consta de cinco componentes esenciales:\n",
        "\n",
        "1. **Fuente de Información:** Representa el origen de los datos que se desean transmitir. En nuestro caso, utilizaremos un archivo de texto como fuente de información.\n",
        "\n",
        "2. **Transmisor:** Es responsable de tomar los datos de la fuente y prepararlos para la transmisión. Convertiremos el texto en código ASCII y, opcionalmente, en representación binaria.\n",
        "\n",
        "3. **Canal:** El medio físico o técnico a través del cual se transmiten los datos. En este ejemplo, simularemos el canal y agregaremos ruido aleatorio para emular interferencias.\n",
        "\n",
        "4. **Receptor:** Recibe la señal del canal y, en nuestro caso, intentará corregir los errores introducidos por el ruido y decodificar los datos.\n",
        "\n",
        "5. **Destino de Información:** La ubicación final donde se utilizan los datos recibidos, que podría ser un usuario, una aplicación o cualquier entidad que requiera la información.\n",
        "\n",
        "A través de este proceso, exploraremos cómo los datos fluyen desde su origen hasta su destino, enfrentando desafíos en el camino, y cómo se recuperan y utilizan en su forma original o procesada en el destino de información. ¡Continuemos con la implementación de este esquema!"
      ]
    },
    {
      "cell_type": "markdown",
      "metadata": {
        "id": "XlcJTWRTcEo_"
      },
      "source": [
        "# **Código**"
      ]
    },
    {
      "cell_type": "markdown",
      "metadata": {
        "id": "U3qdXP-xSlH-"
      },
      "source": [
        "## 1. Fuente de información"
      ]
    },
    {
      "cell_type": "code",
      "execution_count": null,
      "metadata": {
        "colab": {
          "base_uri": "https://localhost:8080/"
        },
        "id": "s8S75guGSknE",
        "outputId": "70e43092-ca8e-4e43-9de7-bfe7c2525eff"
      },
      "outputs": [],
      "source": []
    },
    {
      "cell_type": "markdown",
      "metadata": {
        "id": "1G1ffliZWuJU"
      },
      "source": [
        "## 2. Transmisor"
      ]
    },
    {
      "cell_type": "code",
      "execution_count": null,
      "metadata": {
        "colab": {
          "base_uri": "https://localhost:8080/"
        },
        "id": "hMs_UumJWSWF",
        "outputId": "de05d8e7-ba07-4a14-90be-c6d5455ba7b4"
      },
      "outputs": [],
      "source": []
    },
    {
      "cell_type": "markdown",
      "metadata": {
        "id": "WqoAgYG3YB_A"
      },
      "source": [
        "## 3. Canal"
      ]
    },
    {
      "cell_type": "code",
      "execution_count": null,
      "metadata": {
        "id": "V7BFMyf_YB14"
      },
      "outputs": [],
      "source": []
    },
    {
      "cell_type": "markdown",
      "metadata": {
        "id": "aHorUn54Z4N8"
      },
      "source": [
        "## 4. Receptor"
      ]
    },
    {
      "cell_type": "code",
      "execution_count": null,
      "metadata": {
        "id": "VJ_6245iZ4At"
      },
      "outputs": [],
      "source": []
    },
    {
      "cell_type": "markdown",
      "metadata": {
        "id": "MATiGxVjalU8"
      },
      "source": [
        "## 5. Destino de información"
      ]
    },
    {
      "cell_type": "code",
      "execution_count": null,
      "metadata": {
        "colab": {
          "base_uri": "https://localhost:8080/"
        },
        "id": "8ZDBz7Baake0",
        "outputId": "4f4f2911-6765-4d1f-d912-9d3dbe1da97e"
      },
      "outputs": [],
      "source": []
    }
  ],
  "metadata": {
    "colab": {
      "provenance": []
    },
    "kernelspec": {
      "display_name": "Python 3",
      "name": "python3"
    },
    "language_info": {
      "name": "python",
      "version": "3.11.5"
    }
  },
  "nbformat": 4,
  "nbformat_minor": 0
}
