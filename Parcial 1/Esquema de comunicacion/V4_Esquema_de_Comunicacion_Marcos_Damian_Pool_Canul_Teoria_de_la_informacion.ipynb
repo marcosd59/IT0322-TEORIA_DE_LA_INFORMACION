{
 "cells": [
  {
   "cell_type": "markdown",
   "metadata": {},
   "source": [
    "### 1. Fuente de información"
   ]
  },
  {
   "cell_type": "code",
   "execution_count": 199,
   "metadata": {},
   "outputs": [],
   "source": [
    "import heapq\n",
    "from heapq import heappop, heappush"
   ]
  },
  {
   "cell_type": "code",
   "execution_count": 205,
   "metadata": {},
   "outputs": [],
   "source": [
    "def isLeaf(root):\n",
    "    \treturn root.left is None and root.right is None\n",
    "\n",
    "\n",
    "# A Tree node\n",
    "class Node:\n",
    "\tdef __init__(self, ch, freq, left=None, right=None):\n",
    "\t\tself.ch = ch\n",
    "\t\tself.freq = freq\n",
    "\t\tself.left = left\n",
    "\t\tself.right = right\n",
    "\n",
    "\t# Override the `__lt__()` function to make `Node` class work with priority queue\n",
    "\t# such that the highest priority item has the lowest frequency\n",
    "\tdef __lt__(self, other):\n",
    "\t\treturn self.freq < other.freq\n"
   ]
  },
  {
   "cell_type": "code",
   "execution_count": 206,
   "metadata": {},
   "outputs": [],
   "source": [
    "# Traverse the Huffman Tree and store Huffman Codes in a dictionary\n",
    "def encode(root, s, huffman_code):\n",
    "\n",
    "\tif root is None:\n",
    "\t\treturn\n",
    "\n",
    "\t# found a leaf node\n",
    "\tif isLeaf(root):\n",
    "\t\thuffman_code[root.ch] = s if len(s) > 0 else '1'\n",
    "\n",
    "\tencode(root.left, s + '0', huffman_code)\n",
    "\tencode(root.right, s + '1', huffman_code)"
   ]
  },
  {
   "cell_type": "code",
   "execution_count": 207,
   "metadata": {},
   "outputs": [],
   "source": [
    "# Traverse the Huffman Tree and decode the encoded string\n",
    "def decode(root, index, s):\n",
    "\n",
    "\tif root is None:\n",
    "\t\treturn index\n",
    "\n",
    "\t# found a leaf node\n",
    "\tif isLeaf(root):\n",
    "\t\tprint(root.ch, end='')\n",
    "\t\treturn index\n",
    "\n",
    "\tindex = index + 1\n",
    "\troot = root.left if s[index] == '0' else root.right\n",
    "\treturn decode(root, index, s)"
   ]
  },
  {
   "cell_type": "code",
   "execution_count": 208,
   "metadata": {},
   "outputs": [],
   "source": [
    "# Builds Huffman Tree and decodes the given input text\n",
    "def buildHuffmanTree(text):\n",
    "\n",
    "\t# base case: empty string\n",
    "\tif len(text) == 0:\n",
    "\t\treturn\n",
    "\n",
    "\t# count the frequency of appearance of each character\n",
    "\t# and store it in a dictionary\n",
    "\tfreq = {i: text.count(i) for i in set(text)}\n",
    "\n",
    "\t# Create a priority queue to store live nodes of the Huffman tree.\n",
    "\tpq = [Node(k, v) for k, v in freq.items()]\n",
    "\theapq.heapify(pq)\n",
    "\n",
    "\t# do till there is more than one node in the queue\n",
    "\twhile len(pq) != 1:\n",
    "\n",
    "\t\t# Remove the two nodes of the highest priority\n",
    "\t\t# (the lowest frequency) from the queue\n",
    "\n",
    "\t\tleft = heappop(pq)\n",
    "\t\tright = heappop(pq)\n",
    "\n",
    "\t\t# create a new internal node with these two nodes as children and\n",
    "\t\t# with a frequency equal to the sum of the two nodes' frequencies.\n",
    "\t\t# Add the new node to the priority queue.\n",
    "\n",
    "\t\ttotal = left.freq + right.freq\n",
    "\t\theappush(pq, Node(None, total, left, right))\n",
    "\n",
    "\t# `root` stores pointer to the root of Huffman Tree\n",
    "\troot = pq[0]\n",
    "\n",
    "\t# traverse the Huffman tree and store the Huffman codes in a dictionary\n",
    "\thuffmanCode = {}\n",
    "\tencode(root, '', huffmanCode)\n",
    "\n",
    "\t# print the Huffman codes\n",
    "\tprint('Huffman Codes are:', huffmanCode)\n",
    "\tprint('The original string is:', text)\n",
    "\n",
    "\t# print the encoded string\n",
    "\ts = ''\n",
    "\tfor c in text:\n",
    "\t\ts += huffmanCode.get(c)\n",
    "\n",
    "\tprint('The encoded string is:', s)\n",
    "\tprint('The decoded string is:', end=' ')\n",
    "\n",
    "\tif isLeaf(root):\n",
    "\t\t# Special case: For input like a, aa, aaa, etc.\n",
    "\t\twhile root.freq > 0:\n",
    "\t\t\tprint(root.ch, end='')\n",
    "\t\t\troot.freq = root.freq - 1\n",
    "\telse:\n",
    "\t\t# traverse the Huffman Tree again and this time,\n",
    "\t\t# decode the encoded string\n",
    "\t\tindex = -1\n",
    "\t\twhile index < len(s) - 1:\n",
    "\t\t\tindex = decode(root, index, s)"
   ]
  },
  {
   "cell_type": "code",
   "execution_count": 191,
   "metadata": {},
   "outputs": [
    {
     "name": "stdout",
     "output_type": "stream",
     "text": [
      "Mensaje: Hola, esto es un mensaje de prueba para la comunicacion.\n"
     ]
    }
   ],
   "source": [
    "# 1. Fuente de información (leyendo un archivo de texto)\n",
    "\n",
    "def leer_archivo(nombre_archivo):\n",
    "    try:\n",
    "        with open(nombre_archivo, 'r') as archivo:\n",
    "            contenido = archivo.read()\n",
    "            return contenido\n",
    "    except FileNotFoundError:\n",
    "        print(f\"El archivo '{nombre_archivo}' no fue encontrado.\")\n",
    "        return \"\"\n",
    "\n",
    "nombre_archivo_fuente = \"fuente.txt\"\n",
    "\n",
    "texto_original = leer_archivo(nombre_archivo_fuente)\n",
    "\n",
    "print(\"Mensaje:\", texto_original)"
   ]
  },
  {
   "cell_type": "markdown",
   "metadata": {},
   "source": [
    "### 2. Transmisor"
   ]
  },
  {
   "cell_type": "code",
   "execution_count": 192,
   "metadata": {},
   "outputs": [],
   "source": [
    "def texto_a_ascii(texto):\n",
    "    ascii_codigos = [ord(char) for char in texto]\n",
    "    return ascii_codigos\n",
    "\n",
    "def lista_ascii_a_binario(lista_ascii):\n",
    "    mensaje_binario = ''.join(format(char, '08b') for char in lista_ascii)\n",
    "    return mensaje_binario"
   ]
  },
  {
   "cell_type": "code",
   "execution_count": 193,
   "metadata": {},
   "outputs": [
    {
     "name": "stdout",
     "output_type": "stream",
     "text": [
      "Mensaje en ASCII:  [72, 111, 108, 97, 44, 32, 101, 115, 116, 111, 32, 101, 115, 32, 117, 110, 32, 109, 101, 110, 115, 97, 106, 101, 32, 100, 101, 32, 112, 114, 117, 101, 98, 97, 32, 112, 97, 114, 97, 32, 108, 97, 32, 99, 111, 109, 117, 110, 105, 99, 97, 99, 105, 111, 110, 46]\n",
      "Mensaje en Binario:  0100100001101111011011000110000100101100001000000110010101110011011101000110111100100000011001010111001100100000011101010110111000100000011011010110010101101110011100110110000101101010011001010010000001100100011001010010000001110000011100100111010101100101011000100110000100100000011100000110000101110010011000010010000001101100011000010010000001100011011011110110110101110101011011100110100101100011011000010110001101101001011011110110111000101110\n"
     ]
    }
   ],
   "source": [
    "if texto_original:\n",
    "    texto_ascii = texto_a_ascii(texto_original)\n",
    "\n",
    "print(\"Mensaje en ASCII: \", texto_ascii)\n",
    "\n",
    "texto_binario = lista_ascii_a_binario(texto_ascii)\n",
    "\n",
    "print(\"Mensaje en Binario: \", texto_binario)"
   ]
  },
  {
   "cell_type": "markdown",
   "metadata": {},
   "source": [
    "### 3. Canal"
   ]
  },
  {
   "cell_type": "code",
   "execution_count": 194,
   "metadata": {},
   "outputs": [],
   "source": [
    "import random\n",
    "\n",
    "def agregar_ruido_binario(cadena_binaria, probabilidad):\n",
    "    mensaje_con_ruido = \"\"\n",
    "    for bit in cadena_binaria:\n",
    "        if random.random() < probabilidad and bit != ' ':\n",
    "            # Simulamos un error al cambiar el bit con probabilidad 'probabilidad'\n",
    "            mensaje_con_ruido += '1' if bit == '0' else '0'\n",
    "        else:\n",
    "            mensaje_con_ruido += bit\n",
    "    return mensaje_con_ruido"
   ]
  },
  {
   "cell_type": "code",
   "execution_count": 195,
   "metadata": {},
   "outputs": [
    {
     "name": "stdout",
     "output_type": "stream",
     "text": [
      "Probabilidad de ruido: 5.0 %\n",
      "Cadena binaria con ruido: 0110100001101101011011000110000100101101001000000010010100110011011101000010101100110000011001010010001100100000011101011100111000100000011101010110010101101110011100110110000101101010011001010010000000100000011001000010000001110000011100100111010101110101011010100110000100100000011100000110000101110010011100010010010001101100011000010010000001100011011010110110110101110101011011100110100101100011011000010110001101101011011010111110111000101110\n"
     ]
    }
   ],
   "source": [
    "# Generar una probabilidad de error aleatoria entre 0 y 1.\n",
    "probabilidad_ruido = random.random()\n",
    "probabilidad_ruido = 0.05\n",
    "\n",
    "print(f\"Probabilidad de ruido: {probabilidad_ruido * 100:.3} %\")\n",
    "\n",
    "texto_binario_ruido = agregar_ruido_binario(texto_binario, probabilidad_ruido)\n",
    "\n",
    "print(\"Cadena binaria con ruido:\",texto_binario_ruido)"
   ]
  },
  {
   "cell_type": "markdown",
   "metadata": {},
   "source": [
    "### 4. Receptor"
   ]
  },
  {
   "cell_type": "code",
   "execution_count": 196,
   "metadata": {},
   "outputs": [],
   "source": [
    "def binario_a_ascii(binario):\n",
    "    # Divide la cadena binaria en segmentos de 8 bits y conviértelos a valores ASCII\n",
    "    ascii_codigos = [int(binario[i:i+8], 2) for i in range(0, len(binario), 8)]\n",
    "\n",
    "    # Convierte los códigos ASCII a caracteres y forma el mensaje de texto\n",
    "    mensaje_texto = ''.join(chr(codigo) for codigo in ascii_codigos)\n",
    "\n",
    "    return mensaje_texto"
   ]
  },
  {
   "cell_type": "code",
   "execution_count": 197,
   "metadata": {},
   "outputs": [],
   "source": [
    "texto_recibido = binario_a_ascii(texto_binario_ruido)"
   ]
  },
  {
   "cell_type": "markdown",
   "metadata": {},
   "source": [
    "### 5. Destino de información"
   ]
  },
  {
   "cell_type": "code",
   "execution_count": 198,
   "metadata": {},
   "outputs": [
    {
     "name": "stdout",
     "output_type": "stream",
     "text": [
      "Mensaje Original: Hola, esto es un mensaje de prueba para la comunicacion.\n",
      "Mensaje Recibido: hmla- %3t+0e# uÎ uensaje  d pruuja parq$la ckmunicackkî.\n"
     ]
    }
   ],
   "source": [
    "# 5. Destino de Información (Destinatario)\n",
    "\n",
    "# Imprimir el mensaje en el destinatario\n",
    "print(\"Mensaje Original:\", texto_original)\n",
    "print(\"Mensaje Recibido:\", texto_recibido)"
   ]
  }
 ],
 "metadata": {
  "kernelspec": {
   "display_name": "Python 3",
   "language": "python",
   "name": "python3"
  },
  "language_info": {
   "codemirror_mode": {
    "name": "ipython",
    "version": 3
   },
   "file_extension": ".py",
   "mimetype": "text/x-python",
   "name": "python",
   "nbconvert_exporter": "python",
   "pygments_lexer": "ipython3",
   "version": "3.11.5"
  },
  "orig_nbformat": 4
 },
 "nbformat": 4,
 "nbformat_minor": 2
}
