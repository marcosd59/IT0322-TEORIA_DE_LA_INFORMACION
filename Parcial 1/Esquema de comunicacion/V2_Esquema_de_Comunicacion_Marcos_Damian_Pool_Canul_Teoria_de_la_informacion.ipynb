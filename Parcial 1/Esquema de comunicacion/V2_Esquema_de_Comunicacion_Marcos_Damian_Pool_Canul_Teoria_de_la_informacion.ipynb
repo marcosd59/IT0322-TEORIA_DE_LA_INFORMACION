{
  "cells": [
    {
      "cell_type": "markdown",
      "metadata": {
        "id": "wT6dv1PcbNUS"
      },
      "source": [
        "# **Marcos Damián Pool Canul** | `200300591@ucaribe.edu.mx`"
      ]
    },
    {
      "cell_type": "markdown",
      "metadata": {
        "id": "fno_bOzWbLFn"
      },
      "source": [
        "#IT0322 - Teoría de la Información\n",
        "\n",
        "### Otoño 2023\n",
        "\n",
        "### Simulacion de un esquema de comunicación\n",
        "\n",
        "### Alumno: Marcos Damián Pool Canul\n",
        "\n",
        "### Matricula: 200300591\n",
        "\n",
        "### **Profesor: *Carlos Francisco Paz Cuevas***"
      ]
    },
    {
      "cell_type": "markdown",
      "metadata": {
        "id": "3wrI7dTIbobu"
      },
      "source": [
        "# **Introducción**"
      ]
    },
    {
      "cell_type": "markdown",
      "metadata": {
        "id": "C0mmS9RIUC6f"
      },
      "source": [
        "La comunicación es un proceso fundamental en la interacción humana y tecnológica. Claude Shannon, un pionero en el campo de la teoría de la información, desarrolló un esquema de comunicación que sirve como base para entender cómo la información se transmite de un punto a otro a través de un medio, enfrentando desafíos como el ruido y la pérdida de datos.\n",
        "\n",
        "Este esquema consta de cinco componentes esenciales:\n",
        "\n",
        "1. **Fuente de Información:** Representa el origen de los datos que se desean transmitir. En nuestro caso, utilizaremos un archivo de texto como fuente de información.\n",
        "\n",
        "2. **Transmisor:** Es responsable de tomar los datos de la fuente y prepararlos para la transmisión. Convertiremos el texto en código ASCII y, opcionalmente, en representación binaria.\n",
        "\n",
        "3. **Canal:** El medio físico o técnico a través del cual se transmiten los datos. En este ejemplo, simularemos el canal y agregaremos ruido aleatorio para emular interferencias.\n",
        "\n",
        "4. **Receptor:** Recibe la señal del canal y, en nuestro caso, intentará corregir los errores introducidos por el ruido y decodificar los datos.\n",
        "\n",
        "5. **Destino de Información:** La ubicación final donde se utilizan los datos recibidos, que podría ser un usuario, una aplicación o cualquier entidad que requiera la información.\n",
        "\n",
        "A través de este proceso, exploraremos cómo los datos fluyen desde su origen hasta su destino, enfrentando desafíos en el camino, y cómo se recuperan y utilizan en su forma original o procesada en el destino de información. ¡Continuemos con la implementación de este esquema!"
      ]
    },
    {
      "cell_type": "markdown",
      "metadata": {
        "id": "XlcJTWRTcEo_"
      },
      "source": [
        "# **Código**"
      ]
    },
    {
      "cell_type": "markdown",
      "metadata": {
        "id": "U3qdXP-xSlH-"
      },
      "source": [
        "## 1. Fuente de información"
      ]
    },
    {
      "cell_type": "markdown",
      "metadata": {},
      "source": [
        "> ***ChatGTP***"
      ]
    },
    {
      "cell_type": "code",
      "execution_count": 1,
      "metadata": {
        "colab": {
          "base_uri": "https://localhost:8080/"
        },
        "id": "s8S75guGSknE",
        "outputId": "70e43092-ca8e-4e43-9de7-bfe7c2525eff"
      },
      "outputs": [
        {
          "name": "stdout",
          "output_type": "stream",
          "text": [
            "Mensaje: Hola, esto es un mensaje de prueba para la comunicaciÃ³n.\n"
          ]
        }
      ],
      "source": [
        "# 1. Fuente de información (leyendo un archivo de texto)\n",
        "\n",
        "def leer_archivo(nombre_archivo):\n",
        "    try:\n",
        "        with open(nombre_archivo, 'r') as archivo:\n",
        "            contenido = archivo.read()\n",
        "            return contenido\n",
        "    except FileNotFoundError:\n",
        "        print(f\"El archivo '{nombre_archivo}' no fue encontrado.\")\n",
        "        return \"\"\n",
        "\n",
        "nombre_archivo_fuente = \"fuente.txt\"\n",
        "\n",
        "contenido_fuente = leer_archivo(nombre_archivo_fuente)\n",
        "\n",
        "print(\"Mensaje:\", contenido_fuente)\n"
      ]
    },
    {
      "cell_type": "markdown",
      "metadata": {
        "id": "1G1ffliZWuJU"
      },
      "source": [
        "## 2. Transmisor"
      ]
    },
    {
      "cell_type": "code",
      "execution_count": 2,
      "metadata": {
        "colab": {
          "base_uri": "https://localhost:8080/"
        },
        "id": "hMs_UumJWSWF",
        "outputId": "de05d8e7-ba07-4a14-90be-c6d5455ba7b4"
      },
      "outputs": [
        {
          "name": "stdout",
          "output_type": "stream",
          "text": [
            "Mensaje en ASCII:  [72, 111, 108, 97, 44, 32, 101, 115, 116, 111, 32, 101, 115, 32, 117, 110, 32, 109, 101, 110, 115, 97, 106, 101, 32, 100, 101, 32, 112, 114, 117, 101, 98, 97, 32, 112, 97, 114, 97, 32, 108, 97, 32, 99, 111, 109, 117, 110, 105, 99, 97, 99, 105, 195, 179, 110, 46]\n",
            "Mensaje en Binario:  010010000110111101101100011000010010110000100000011001010111001101110100011011110010000001100101011100110010000001110101011011100010000001101101011001010110111001110011011000010110101001100101001000000110010001100101001000000111000001110010011101010110010101100010011000010010000001110000011000010111001001100001001000000110110001100001001000000110001101101111011011010111010101101110011010010110001101100001011000110110100111000011101100110110111000101110\n"
          ]
        }
      ],
      "source": [
        "# 2.Transmisor (conversion del mensaje)\n",
        "\n",
        "# ChatGTP\n",
        "def texto_a_ascii(texto):\n",
        "    ascii_codigos = [ord(char) for char in texto]\n",
        "    return ascii_codigos\n",
        "\n",
        "if contenido_fuente:\n",
        "    fuente_informacion = texto_a_ascii(contenido_fuente)\n",
        "\n",
        "print(\"Mensaje en ASCII: \", fuente_informacion)\n",
        "\n",
        "def lista_ascii_a_binario(lista_ascii):\n",
        "    mensaje_binario = ''.join(format(char, '08b') for char in lista_ascii)\n",
        "    return mensaje_binario\n",
        "\n",
        "msj_binario = lista_ascii_a_binario(fuente_informacion)\n",
        "\n",
        "print(\"Mensaje en Binario: \", msj_binario)"
      ]
    },
    {
      "cell_type": "markdown",
      "metadata": {
        "id": "WqoAgYG3YB_A"
      },
      "source": [
        "## 3. Canal"
      ]
    },
    {
      "cell_type": "code",
      "execution_count": 3,
      "metadata": {
        "id": "V7BFMyf_YB14"
      },
      "outputs": [],
      "source": [
        "import random\n",
        "\n",
        "def agregar_ruido_binario(cadena_binaria, probabilidad):\n",
        "    mensaje_con_ruido = \"\"\n",
        "    for bit in cadena_binaria:\n",
        "        if random.random() < probabilidad:\n",
        "            # Simulamos un error al cambiar el bit con probabilidad 'probabilidad'\n",
        "            mensaje_con_ruido += '1' if bit == '0' else '0'\n",
        "        else:\n",
        "            mensaje_con_ruido += bit\n",
        "    return mensaje_con_ruido"
      ]
    },
    {
      "cell_type": "code",
      "execution_count": 4,
      "metadata": {
        "colab": {
          "base_uri": "https://localhost:8080/"
        },
        "id": "kwHZ3JcnZID9",
        "outputId": "868d8779-e995-4a69-936e-b63b209ce6b4"
      },
      "outputs": [
        {
          "name": "stdout",
          "output_type": "stream",
          "text": [
            "010010100110111101101100011000010010110000100000011001010111001101110100011011110110000001100111011100110010000101110101011111100010000001101101011001010110111001100011011000010110101001100101001000000110010001100101001000000111000001110000011101011110010111100010011000010010000001110000011000010111011001100001001000000110000001100001001000000111001101101011011011010111010111101100011010010110001101100001011000110010100111010011101100110110111000101110\n"
          ]
        }
      ],
      "source": [
        "probabilidad_ruido = 0.04  # Ajusta la probabilidad de ruido según tu preferencia\n",
        "cadena_con_ruido = agregar_ruido_binario(msj_binario, probabilidad_ruido)\n",
        "print(cadena_con_ruido)"
      ]
    },
    {
      "cell_type": "markdown",
      "metadata": {
        "id": "aHorUn54Z4N8"
      },
      "source": [
        "## 4. Receptor"
      ]
    },
    {
      "cell_type": "markdown",
      "metadata": {},
      "source": [
        "> ***ChatGTP***"
      ]
    },
    {
      "cell_type": "code",
      "execution_count": 5,
      "metadata": {
        "id": "VJ_6245iZ4At"
      },
      "outputs": [],
      "source": [
        "def binario_a_ascii(binario):\n",
        "    # Divide la cadena binaria en segmentos de 8 bits y conviértelos a valores ASCII\n",
        "    ascii_codigos = [int(binario[i:i+8], 2) for i in range(0, len(binario), 8)]\n",
        "\n",
        "    # Convierte los códigos ASCII a caracteres y forma el mensaje de texto\n",
        "    mensaje_texto = \"\".join(chr(codigo) for codigo in ascii_codigos)\n",
        "\n",
        "    return mensaje_texto"
      ]
    },
    {
      "cell_type": "code",
      "execution_count": 6,
      "metadata": {
        "id": "MOEr4W40a3vh"
      },
      "outputs": [],
      "source": [
        "mensaje_recibido = binario_a_ascii(cadena_con_ruido)"
      ]
    },
    {
      "cell_type": "markdown",
      "metadata": {
        "id": "MATiGxVjalU8"
      },
      "source": [
        "## 5. Destino de información"
      ]
    },
    {
      "cell_type": "code",
      "execution_count": 7,
      "metadata": {
        "colab": {
          "base_uri": "https://localhost:8080/"
        },
        "id": "8ZDBz7Baake0",
        "outputId": "4f4f2911-6765-4d1f-d912-9d3dbe1da97e"
      },
      "outputs": [
        {
          "name": "stdout",
          "output_type": "stream",
          "text": [
            "Mensaje Original: Hola, esto es un mensaje de prueba para la comunicaciÃ³n.\n",
            "Mensaje Recibido: Jola, esto`gs!u~ mencaje de ppuåâa pava `a skmuìicac)Ó³n.\n"
          ]
        }
      ],
      "source": [
        "# 5. Destino de Información (Destinatario)\n",
        "\n",
        "# Imprimir el mensaje en el destinatario\n",
        "print(\"Mensaje Original:\", contenido_fuente)\n",
        "print(\"Mensaje Recibido:\", mensaje_recibido)"
      ]
    }
  ],
  "metadata": {
    "colab": {
      "provenance": []
    },
    "kernelspec": {
      "display_name": "Python 3",
      "name": "python3"
    },
    "language_info": {
      "codemirror_mode": {
        "name": "ipython",
        "version": 3
      },
      "file_extension": ".py",
      "mimetype": "text/x-python",
      "name": "python",
      "nbconvert_exporter": "python",
      "pygments_lexer": "ipython3",
      "version": "3.11.5"
    }
  },
  "nbformat": 4,
  "nbformat_minor": 0
}
