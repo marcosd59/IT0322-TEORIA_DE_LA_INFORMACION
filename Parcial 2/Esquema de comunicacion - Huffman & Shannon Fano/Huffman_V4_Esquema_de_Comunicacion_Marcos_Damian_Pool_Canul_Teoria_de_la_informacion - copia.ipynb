{
 "cells": [
  {
   "cell_type": "markdown",
   "metadata": {},
   "source": [
    "# **Códificación Huffman**"
   ]
  },
  {
   "cell_type": "markdown",
   "metadata": {},
   "source": [
    "### 1. Fuente de información"
   ]
  },
  {
   "cell_type": "code",
   "execution_count": 1,
   "metadata": {},
   "outputs": [
    {
     "name": "stdout",
     "output_type": "stream",
     "text": [
      "Mensaje: Hola, esto es un mensaje de prueba para la comunicacion.\n"
     ]
    }
   ],
   "source": [
    "# 1. Fuente de información (leyendo un archivo de texto)\n",
    "\n",
    "def leer_archivo(nombre_archivo):\n",
    "    try:\n",
    "        with open(nombre_archivo, 'r') as archivo:\n",
    "            contenido = archivo.read()\n",
    "            return contenido\n",
    "    except FileNotFoundError:\n",
    "        print(f\"El archivo '{nombre_archivo}' no fue encontrado.\")\n",
    "        return \"\"\n",
    "\n",
    "nombre_archivo_fuente = \"fuente.txt\"\n",
    "\n",
    "texto_original = leer_archivo(nombre_archivo_fuente)\n",
    "\n",
    "print(\"Mensaje:\", texto_original)"
   ]
  },
  {
   "cell_type": "markdown",
   "metadata": {},
   "source": [
    "### 2. Transmisor"
   ]
  },
  {
   "cell_type": "code",
   "execution_count": 2,
   "metadata": {},
   "outputs": [],
   "source": [
    "# 2. Transmisor (Convierte el texto de entrada a binario)\n",
    "\n",
    "def texto_a_binario(mensaje):\n",
    "    binario = ''.join(format(ord(char), '08b') for char in mensaje)\n",
    "    return binario\n",
    "\n",
    "class Nodo:\n",
    "    def __init__(self, char, freq, izq=None, der=None):\n",
    "        self.char = char\n",
    "        self.freq = freq\n",
    "        self.izq = izq\n",
    "        self.der = der\n",
    "\n",
    "def arbol_huffman(texto):\n",
    "    freq = dict()\n",
    "    for char in texto:\n",
    "        if char not in freq:\n",
    "            freq[char] = 0\n",
    "        freq[char] += 1\n",
    "\n",
    "    nodos = [Nodo(char, f) for char, f in freq.items()]\n",
    "    while len(nodos) > 1:\n",
    "        nodos = sorted(nodos, key=lambda x: x.freq)  # Ordena los nodos por frecuencia\n",
    "        izq = nodos.pop(0)\n",
    "        der = nodos.pop(0)\n",
    "        nodo = Nodo(None, izq.freq + der.freq, izq, der)\n",
    "        nodos.append(nodo)\n",
    "    return nodos[0]  # Nodo raíz\n",
    "\n",
    "def diccionario_huffman(nodo, codigo_binario=\"\", diccionario=dict()):\n",
    "    if nodo is None:\n",
    "        return\n",
    "    if nodo.char is not None:\n",
    "        diccionario[nodo.char] = codigo_binario\n",
    "    diccionario_huffman(nodo.izq, codigo_binario + \"0\", diccionario)\n",
    "    diccionario_huffman(nodo.der, codigo_binario + \"1\", diccionario)\n",
    "    return diccionario"
   ]
  },
  {
   "cell_type": "code",
   "execution_count": 3,
   "metadata": {},
   "outputs": [],
   "source": [
    "texto_binario = texto_a_binario(texto_original)"
   ]
  },
  {
   "cell_type": "markdown",
   "metadata": {},
   "source": [
    "### 3. Canal"
   ]
  },
  {
   "cell_type": "code",
   "execution_count": 4,
   "metadata": {},
   "outputs": [],
   "source": [
    "# 3. Canal (agregar ruido a la cadena binaria)"
   ]
  },
  {
   "cell_type": "markdown",
   "metadata": {},
   "source": [
    "### 4. Receptor"
   ]
  },
  {
   "cell_type": "code",
   "execution_count": 5,
   "metadata": {},
   "outputs": [],
   "source": [
    "def decodificar(texto_codificado, nodo_raiz):\n",
    "    texto = \"\"\n",
    "    nodo_actual = nodo_raiz\n",
    "    for bit in texto_codificado:\n",
    "        if bit == '0':\n",
    "            nodo_actual = nodo_actual.izq\n",
    "        else:  # bit == '1'\n",
    "            nodo_actual = nodo_actual.der\n",
    "        if nodo_actual.char is not None:  # Es un nodo hoja\n",
    "            texto += nodo_actual.char\n",
    "            nodo_actual = nodo_raiz\n",
    "    return texto"
   ]
  },
  {
   "cell_type": "code",
   "execution_count": 6,
   "metadata": {},
   "outputs": [],
   "source": [
    "raiz = arbol_huffman(texto_original)\n",
    "diccionario = diccionario_huffman(raiz)\n",
    "texto_codificado = \"\".join(diccionario[char] for char in texto_original)\n",
    "texto_decodificado = decodificar(texto_codificado, raiz)"
   ]
  },
  {
   "cell_type": "markdown",
   "metadata": {},
   "source": [
    "### 5. Destino de información"
   ]
  },
  {
   "cell_type": "code",
   "execution_count": 7,
   "metadata": {},
   "outputs": [
    {
     "name": "stdout",
     "output_type": "stream",
     "text": [
      "Cadena binaria original: 0100100001101111011011000110000100101100001000000110010101110011011101000110111100100000011001010111001100100000011101010110111000100000011011010110010101101110011100110110000101101010011001010010000001100100011001010010000001110000011100100111010101100101011000100110000100100000011100000110000101110010011000010010000001101100011000010010000001100011011011110110110101110101011011100110100101100011011000010110001101101001011011110110111000101110\n",
      "Cadena binaria comprimida: 1101001001100010111101011110010001110110100111100100011110100101011110110001101000010111101110011110000000111110111110000100001000010111111011101111000011111100010111110101100110110010010101100101010110101110011001101010000\n",
      "\n",
      "Mensaje enviado: Hola, esto es un mensaje de prueba para la comunicacion.\n",
      "Mensaje recibido: Hola, esto es un mensaje de prueba para la comunicacion.\n"
     ]
    }
   ],
   "source": [
    "# 5. Destino de Información (Destinatario)\n",
    "\n",
    "print(\"Cadena binaria original:\",texto_binario)\n",
    "print(\"Cadena binaria comprimida:\",texto_codificado)\n",
    "print(\"\")\n",
    "print(\"Mensaje enviado:\",texto_original)\n",
    "print(\"Mensaje recibido:\",texto_decodificado)"
   ]
  },
  {
   "cell_type": "code",
   "execution_count": 8,
   "metadata": {},
   "outputs": [
    {
     "name": "stdout",
     "output_type": "stream",
     "text": [
      "Lista de simbolos\n"
     ]
    },
    {
     "data": {
      "text/plain": [
       "{'d': '00000',\n",
       " 'b': '00001',\n",
       " 's': '0001',\n",
       " 'e': '001',\n",
       " 'u': '0100',\n",
       " 'c': '0101',\n",
       " 'a': '011',\n",
       " '.': '10000',\n",
       " 'l': '10001',\n",
       " 'o': '1001',\n",
       " 'n': '1010',\n",
       " 'm': '10110',\n",
       " 'p': '10111',\n",
       " 'r': '11000',\n",
       " 'i': '11001',\n",
       " 'H': '110100',\n",
       " ',': '110101',\n",
       " 't': '110110',\n",
       " 'j': '110111',\n",
       " ' ': '111'}"
      ]
     },
     "execution_count": 8,
     "metadata": {},
     "output_type": "execute_result"
    }
   ],
   "source": [
    "print(\"Lista de simbolos\")\n",
    "diccionario"
   ]
  }
 ],
 "metadata": {
  "kernelspec": {
   "display_name": "Python 3",
   "language": "python",
   "name": "python3"
  },
  "language_info": {
   "codemirror_mode": {
    "name": "ipython",
    "version": 3
   },
   "file_extension": ".py",
   "mimetype": "text/x-python",
   "name": "python",
   "nbconvert_exporter": "python",
   "pygments_lexer": "ipython3",
   "version": "3.11.6"
  },
  "orig_nbformat": 4
 },
 "nbformat": 4,
 "nbformat_minor": 2
}
