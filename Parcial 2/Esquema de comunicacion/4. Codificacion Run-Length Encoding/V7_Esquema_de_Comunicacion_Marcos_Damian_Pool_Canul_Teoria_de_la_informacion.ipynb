{
 "cells": [
  {
   "cell_type": "markdown",
   "metadata": {},
   "source": [
    "# **Códificación Run-Length Encoding**"
   ]
  },
  {
   "cell_type": "markdown",
   "metadata": {},
   "source": [
    "### **1. Fuente de información**"
   ]
  },
  {
   "cell_type": "code",
   "execution_count": 16,
   "metadata": {},
   "outputs": [
    {
     "name": "stdout",
     "output_type": "stream",
     "text": [
      "Mensaje: WWWWWWWWWWWWBWWWWWWWWWWWWBBBWWWWWWWWWWWWWWWWWWWWWWWWBWWWWWWWWWWWWWW\n"
     ]
    }
   ],
   "source": [
    "# 1. Fuente de información (leyendo un archivo de texto)\n",
    "\n",
    "def leer_archivo(nombre_archivo):\n",
    "    try:\n",
    "        with open(nombre_archivo, 'r') as archivo:\n",
    "            contenido = archivo.read()\n",
    "            return contenido\n",
    "    except FileNotFoundError:\n",
    "        print(f\"El archivo '{nombre_archivo}' no fue encontrado.\")\n",
    "        return \"\"\n",
    "\n",
    "nombre_archivo_fuente = \"fuente.txt\"\n",
    "\n",
    "texto_original = leer_archivo(nombre_archivo_fuente)\n",
    "\n",
    "print(\"Mensaje:\", texto_original)"
   ]
  },
  {
   "cell_type": "markdown",
   "metadata": {},
   "source": [
    "### **2. Transmisor**"
   ]
  },
  {
   "cell_type": "code",
   "execution_count": 17,
   "metadata": {},
   "outputs": [],
   "source": [
    "def run_length_encode(text):\n",
    "    encoded_text = []\n",
    "    count = 1\n",
    "\n",
    "    for i in range(1, len(text)):\n",
    "        if text[i] == text[i - 1]:\n",
    "            count += 1\n",
    "        else:\n",
    "            encoded_text.append(text[i - 1] + str(count))\n",
    "            count = 1\n",
    "\n",
    "    encoded_text.append(text[-1] + str(count))\n",
    "\n",
    "    return \"\".join(encoded_text)"
   ]
  },
  {
   "cell_type": "markdown",
   "metadata": {},
   "source": [
    "### **3. Canal**"
   ]
  },
  {
   "cell_type": "code",
   "execution_count": 18,
   "metadata": {},
   "outputs": [],
   "source": [
    "# 3. Canal (agregar ruido a la cadena binaria)"
   ]
  },
  {
   "cell_type": "markdown",
   "metadata": {},
   "source": [
    "### **4. Receptor**"
   ]
  },
  {
   "cell_type": "code",
   "execution_count": 19,
   "metadata": {},
   "outputs": [],
   "source": [
    "def run_length_decode(encoded_text):\n",
    "    decoded_text = []\n",
    "    i = 0\n",
    "\n",
    "    while i < len(encoded_text):\n",
    "        char = encoded_text[i]\n",
    "        i += 1\n",
    "        count_str = \"\"\n",
    "        while i < len(encoded_text) and encoded_text[i].isdigit():\n",
    "            count_str += encoded_text[i]\n",
    "            i += 1\n",
    "        count = int(count_str)\n",
    "        decoded_text.append(char * count)\n",
    "\n",
    "    return \"\".join(decoded_text)"
   ]
  },
  {
   "cell_type": "markdown",
   "metadata": {},
   "source": [
    "### **5. Destino de información**"
   ]
  },
  {
   "cell_type": "markdown",
   "metadata": {},
   "source": [
    "El algoritmo Run-Length Encoding (RLE) no utiliza un diccionario como los algoritmos de compresión basados en diccionario, como Lempel-Ziv-Welch (LZW). RLE funciona de manera más simple al codificar secuencias repetidas de caracteres y no mantiene un diccionario."
   ]
  },
  {
   "cell_type": "code",
   "execution_count": 22,
   "metadata": {},
   "outputs": [],
   "source": [
    "def print_rle_dictionary(text):\n",
    "    dictionary = set(text)\n",
    "    print(\"Diccionario implícito de RLE:\")\n",
    "    for char in dictionary:\n",
    "        print(f\"'{char}' -> {char}\")"
   ]
  },
  {
   "cell_type": "code",
   "execution_count": 24,
   "metadata": {},
   "outputs": [
    {
     "name": "stdout",
     "output_type": "stream",
     "text": [
      "Texto original: WWWWWWWWWWWWBWWWWWWWWWWWWBBBWWWWWWWWWWWWWWWWWWWWWWWWBWWWWWWWWWWWWWW\n",
      "Texto codificado: W12B1W12B3W24B1W14\n",
      "Texto decodificado: WWWWWWWWWWWWBWWWWWWWWWWWWBBBWWWWWWWWWWWWWWWWWWWWWWWWBWWWWWWWWWWWWWW\n",
      "\n",
      "Diccionario implícito de RLE:\n",
      "'B' -> B\n",
      "'W' -> W\n"
     ]
    }
   ],
   "source": [
    "encoded_text = run_length_encode(texto_original)\n",
    "decoded_text = run_length_decode(encoded_text)\n",
    "\n",
    "print(\"Texto original:\", texto_original)\n",
    "print(\"Texto codificado:\", encoded_text)\n",
    "print(\"Texto decodificado:\", decoded_text)\n",
    "print()\n",
    "print_rle_dictionary(texto_original)"
   ]
  }
 ],
 "metadata": {
  "kernelspec": {
   "display_name": "Python 3",
   "language": "python",
   "name": "python3"
  },
  "language_info": {
   "codemirror_mode": {
    "name": "ipython",
    "version": 3
   },
   "file_extension": ".py",
   "mimetype": "text/x-python",
   "name": "python",
   "nbconvert_exporter": "python",
   "pygments_lexer": "ipython3",
   "version": "3.9.13"
  }
 },
 "nbformat": 4,
 "nbformat_minor": 2
}
