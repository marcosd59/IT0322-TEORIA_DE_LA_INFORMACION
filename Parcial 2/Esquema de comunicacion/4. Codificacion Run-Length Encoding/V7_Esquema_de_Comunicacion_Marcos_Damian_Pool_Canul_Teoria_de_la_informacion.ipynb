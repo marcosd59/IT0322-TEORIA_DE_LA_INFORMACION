{
 "cells": [
  {
   "cell_type": "markdown",
   "metadata": {},
   "source": [
    "# **Códificación Run-Length Encoding**"
   ]
  },
  {
   "cell_type": "markdown",
   "metadata": {},
   "source": [
    "https://en.wikipedia.org/wiki/Run-length_encoding"
   ]
  },
  {
   "cell_type": "markdown",
   "metadata": {},
   "source": [
    "La compresión RLE o Run-length encoding es una forma muy simple de compresión de datos en la que secuencias de datos con el mismo valor consecutivas son almacenadas como un único valor más su recuento. Esto es más útil en datos que contienen muchas de estas \"secuencias\"; por ejemplo, gráficos sencillos con áreas de color plano, como iconos y logotipos."
   ]
  },
  {
   "cell_type": "markdown",
   "metadata": {},
   "source": [
    "Por ejemplo, considera una pantalla que contiene texto en negro sobre un fondo blanco. Habría muchas secuencias de este tipo con píxeles blancos en los márgenes vacíos, y otras secuencias de píxeles negros en la zona del texto. Supongamos una única línea (o scanline), con N representando las zonas en negro y B las de blanco:"
   ]
  },
  {
   "cell_type": "markdown",
   "metadata": {},
   "source": [
    "> BBBBBBBBBBBBNBBBBBBBBBBBBNNNBBBBBBBBBBBBBBBBBBBBBBBBNBBBBBBBBBBBBBB\n",
    "\n",
    "Si aplicamos la codificación run-length a esta línea, obtendríamos lo siguiente:\n",
    "\n",
    "> 12B1N12B3N24B1N14B"
   ]
  },
  {
   "cell_type": "markdown",
   "metadata": {},
   "source": [
    "Interpretado esto como 12 letras B, 1 letra N , 12 letras B, 3 letras N, etc. El código run-length representa el original de 67 caracteres en tan solo 18. Esto quiere decir que la línea original pesa 67 bytes y la cadena codificada pesa solo 18 bytes. Esta codificación traducida a binario, cuyo principio es el mismo, se utiliza para el almacenamiento de imágenes. Incluso ficheros de datos binarios pueden ser comprimidos utilizando este método. \n",
    "* El primer byte contiene un número que representa el número de veces que el carácter está repetido. \n",
    "* El segundo byte contiene al propio carácter. \n",
    "* En otros casos se codifican en un solo byte: 1 bit (0 o 1) y 7 bits para especificar el número de caracteres consecutivos."
   ]
  },
  {
   "cell_type": "markdown",
   "metadata": {},
   "source": [
    "### **1. Fuente de información**"
   ]
  },
  {
   "cell_type": "code",
   "execution_count": 7,
   "metadata": {},
   "outputs": [
    {
     "name": "stdout",
     "output_type": "stream",
     "text": [
      "Mensaje: WWWWWWWWWWWWBWWWWWWWWWWWWBBBWWWWWWWWWWWWWWWWWWWWWWWWBWWWWWWWWWWWWWW\n"
     ]
    }
   ],
   "source": [
    "# 1. Fuente de información (leyendo un archivo de texto)\n",
    "\n",
    "def leer_archivo(nombre_archivo):\n",
    "    try:\n",
    "        with open(nombre_archivo, 'r') as archivo:\n",
    "            contenido = archivo.read()\n",
    "            return contenido\n",
    "    except FileNotFoundError:\n",
    "        print(f\"El archivo '{nombre_archivo}' no fue encontrado.\")\n",
    "        return \"\"\n",
    "\n",
    "nombre_archivo_fuente = \"fuente.txt\"\n",
    "texto_original = leer_archivo(nombre_archivo_fuente)\n",
    "print(\"Mensaje:\", texto_original)"
   ]
  },
  {
   "cell_type": "markdown",
   "metadata": {},
   "source": [
    "### **2. Transmisor**"
   ]
  },
  {
   "cell_type": "code",
   "execution_count": 8,
   "metadata": {},
   "outputs": [],
   "source": [
    "# 2. Transmisor (codificamos con el algoritmo RLE)\n",
    "def codificacion(texto):\n",
    "    texto_codificado = []\n",
    "    conteo = 1\n",
    "\n",
    "    for i in range(1, len(texto)):\n",
    "        if texto[i] == texto[i - 1]:\n",
    "            conteo += 1\n",
    "        else:\n",
    "            texto_codificado.append(texto[i - 1] + str(conteo))\n",
    "            conteo = 1\n",
    "\n",
    "    texto_codificado.append(texto[-1] + str(conteo))\n",
    "\n",
    "    return \"\".join(texto_codificado)"
   ]
  },
  {
   "cell_type": "markdown",
   "metadata": {},
   "source": [
    "### **3. Canal**"
   ]
  },
  {
   "cell_type": "code",
   "execution_count": 9,
   "metadata": {},
   "outputs": [],
   "source": [
    "# 3. Canal (agregar ruido a la cadena binaria)"
   ]
  },
  {
   "cell_type": "markdown",
   "metadata": {},
   "source": [
    "### **4. Receptor**"
   ]
  },
  {
   "cell_type": "code",
   "execution_count": 10,
   "metadata": {},
   "outputs": [],
   "source": [
    "# 4. Receptor (decodificamos usando los datos codificados)\n",
    "def decodificacion(texto_codificado):\n",
    "    texto_decodificado = []\n",
    "    i = 0\n",
    "\n",
    "    while i < len(texto_codificado):\n",
    "        char = texto_codificado[i]\n",
    "        i += 1\n",
    "        count_str = \"\"\n",
    "        while i < len(texto_codificado) and texto_codificado[i].isdigit():\n",
    "            count_str += texto_codificado[i]\n",
    "            i += 1\n",
    "        count = int(count_str)\n",
    "        texto_decodificado.append(char * count)\n",
    "\n",
    "    return \"\".join(texto_decodificado)"
   ]
  },
  {
   "cell_type": "markdown",
   "metadata": {},
   "source": [
    "### **5. Destino de información**"
   ]
  },
  {
   "cell_type": "markdown",
   "metadata": {},
   "source": [
    "El algoritmo Run-Length Encoding (RLE) no utiliza un diccionario como los algoritmos de compresión basados en diccionario, como Lempel-Ziv-Welch (LZW). RLE funciona de manera más simple al codificar secuencias repetidas de caracteres y no mantiene un diccionario."
   ]
  },
  {
   "cell_type": "code",
   "execution_count": 11,
   "metadata": {},
   "outputs": [],
   "source": [
    "def diccionario(texto):\n",
    "    conjunto = set(texto)\n",
    "    print(\"Diccionario implícito de RLE:\")\n",
    "    for caracter in conjunto:\n",
    "        print(f\"'{caracter}' -> {caracter}\")"
   ]
  },
  {
   "cell_type": "code",
   "execution_count": 14,
   "metadata": {},
   "outputs": [
    {
     "name": "stdout",
     "output_type": "stream",
     "text": [
      "Texto original: WWWWWWWWWWWWBWWWWWWWWWWWWBBBWWWWWWWWWWWWWWWWWWWWWWWWBWWWWWWWWWWWWWW\n",
      "Texto codificado: W12B1W12B3W24B1W14\n",
      "Texto decodificado: WWWWWWWWWWWWBWWWWWWWWWWWWBBBWWWWWWWWWWWWWWWWWWWWWWWWBWWWWWWWWWWWWWW\n",
      "\n",
      "Diccionario implícito de RLE:\n",
      "'B' -> B\n",
      "'W' -> W\n"
     ]
    }
   ],
   "source": [
    "# 5. Destino de información (Se imprimen las cadenas de texto)\n",
    "texto_codificado = codificacion(texto_original)\n",
    "texto_decodificado = decodificacion(texto_codificado)\n",
    "\n",
    "print(\"Texto original:\", texto_original)\n",
    "print(\"Texto codificado:\", texto_codificado)\n",
    "print(\"Texto decodificado:\", texto_decodificado)\n",
    "print()\n",
    "diccionario(texto_original)"
   ]
  }
 ],
 "metadata": {
  "kernelspec": {
   "display_name": "Python 3",
   "language": "python",
   "name": "python3"
  },
  "language_info": {
   "codemirror_mode": {
    "name": "ipython",
    "version": 3
   },
   "file_extension": ".py",
   "mimetype": "text/x-python",
   "name": "python",
   "nbconvert_exporter": "python",
   "pygments_lexer": "ipython3",
   "version": "3.11.6"
  }
 },
 "nbformat": 4,
 "nbformat_minor": 2
}
