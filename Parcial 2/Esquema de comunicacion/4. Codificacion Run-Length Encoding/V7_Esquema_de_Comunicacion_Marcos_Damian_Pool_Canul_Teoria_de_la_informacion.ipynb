{
 "cells": [
  {
   "cell_type": "markdown",
   "metadata": {},
   "source": [
    "# **Códificación Run-Length Encoding**"
   ]
  },
  {
   "cell_type": "markdown",
   "metadata": {},
   "source": [
    "https://en.wikipedia.org/wiki/Run-length_encoding"
   ]
  },
  {
   "cell_type": "markdown",
   "metadata": {},
   "source": [
    "La compresión RLE o Run-length encoding es una forma muy simple de compresión de datos en la que secuencias de datos con el mismo valor consecutivas son almacenadas como un único valor más su recuento. Esto es más útil en datos que contienen muchas de estas \"secuencias\"; por ejemplo, gráficos sencillos con áreas de color plano, como iconos y logotipos."
   ]
  },
  {
   "cell_type": "markdown",
   "metadata": {},
   "source": [
    "Por ejemplo, considera una pantalla que contiene texto en negro sobre un fondo blanco. Habría muchas secuencias de este tipo con píxeles blancos en los márgenes vacíos, y otras secuencias de píxeles negros en la zona del texto. Supongamos una única línea (o scanline), con N representando las zonas en negro y B las de blanco:"
   ]
  },
  {
   "cell_type": "markdown",
   "metadata": {},
   "source": [
    "> BBBBBBBBBBBBNBBBBBBBBBBBBNNNBBBBBBBBBBBBBBBBBBBBBBBBNBBBBBBBBBBBBBB\n",
    "\n",
    "Si aplicamos la codificación run-length a esta línea, obtendríamos lo siguiente:\n",
    "\n",
    "> 12B1N12B3N24B1N14B"
   ]
  },
  {
   "cell_type": "markdown",
   "metadata": {},
   "source": [
    "Interpretado esto como 12 letras B, 1 letra N , 12 letras B, 3 letras N, etc. El código run-length representa el original de 67 caracteres en tan solo 18. Esto quiere decir que la línea original pesa 67 bytes y la cadena codificada pesa solo 18 bytes. Esta codificación traducida a binario, cuyo principio es el mismo, se utiliza para el almacenamiento de imágenes. Incluso ficheros de datos binarios pueden ser comprimidos utilizando este método. \n",
    "* El primer byte contiene un número que representa el número de veces que el carácter está repetido. \n",
    "* El segundo byte contiene al propio carácter. \n",
    "* En otros casos se codifican en un solo byte: 1 bit (0 o 1) y 7 bits para especificar el número de caracteres consecutivos."
   ]
  },
  {
   "cell_type": "markdown",
   "metadata": {},
   "source": [
    "### **1. Fuente de información**"
   ]
  },
  {
   "cell_type": "code",
   "execution_count": 191,
   "metadata": {},
   "outputs": [],
   "source": [
    "# 1. Fuente de información (leyendo un archivo de texto)\n",
    "\n",
    "def leer_archivo(nombre_archivo):\n",
    "    try:\n",
    "        with open(nombre_archivo, encoding=\"utf-8\") as archivo:\n",
    "            contenido = archivo.read()\n",
    "            return contenido\n",
    "    except FileNotFoundError:\n",
    "        print(f\"El archivo '{nombre_archivo}' no fue encontrado.\")\n",
    "        return \"\"\n",
    "\n",
    "nombre_archivo_fuente = \"input.txt\"\n",
    "texto_original = leer_archivo(nombre_archivo_fuente)"
   ]
  },
  {
   "cell_type": "markdown",
   "metadata": {},
   "source": [
    "### **2. Transmisor**"
   ]
  },
  {
   "cell_type": "code",
   "execution_count": 192,
   "metadata": {},
   "outputs": [],
   "source": [
    "# 2. Transmisor (codificamos con el algoritmo RLE)\n",
    "def codificacion(texto):\n",
    "    texto_codificado = []\n",
    "    conteo = 1\n",
    "\n",
    "    for i in range(1, len(texto)):\n",
    "        if texto[i] == texto[i - 1]:\n",
    "            conteo += 1\n",
    "        else:\n",
    "            texto_codificado.append(texto[i - 1] + str(conteo))\n",
    "            conteo = 1\n",
    "    \n",
    "    texto_codificado.append(texto[-1] + str(conteo))\n",
    "    print( \"Texto codificado: \",texto_codificado)\n",
    "\n",
    "    return \"\".join(texto_codificado)"
   ]
  },
  {
   "cell_type": "markdown",
   "metadata": {},
   "source": [
    "### **3. Canal**"
   ]
  },
  {
   "cell_type": "code",
   "execution_count": 193,
   "metadata": {},
   "outputs": [],
   "source": [
    "# 3. Canal (En el canal se agrega ruido)"
   ]
  },
  {
   "cell_type": "markdown",
   "metadata": {},
   "source": [
    "### **4. Receptor**"
   ]
  },
  {
   "cell_type": "code",
   "execution_count": 194,
   "metadata": {},
   "outputs": [],
   "source": [
    "# 4. Receptor (decodificamos usando los datos codificados)\n",
    "def decodificacion(texto_codificado):\n",
    "    texto_decodificado = []\n",
    "    i = 0\n",
    "\n",
    "    while i < len(texto_codificado):\n",
    "        char = texto_codificado[i]\n",
    "        i += 1\n",
    "        count_str = \"\"\n",
    "        while i < len(texto_codificado) and texto_codificado[i].isdigit():\n",
    "            count_str += texto_codificado[i]\n",
    "            i += 1\n",
    "        count = int(count_str)\n",
    "        texto_decodificado.append(char * count)\n",
    "\n",
    "    return \"\".join(texto_decodificado)"
   ]
  },
  {
   "cell_type": "markdown",
   "metadata": {},
   "source": [
    "### **5. Destino de información**"
   ]
  },
  {
   "cell_type": "markdown",
   "metadata": {},
   "source": [
    "El algoritmo Run-Length Encoding (RLE) no utiliza un diccionario como los algoritmos de compresión basados en diccionario, como Lempel-Ziv-Welch (LZW). RLE funciona de manera más simple al codificar secuencias repetidas de caracteres y no mantiene un diccionario."
   ]
  },
  {
   "cell_type": "code",
   "execution_count": 195,
   "metadata": {},
   "outputs": [],
   "source": [
    "def diccionario(texto):\n",
    "    conjunto = set(texto)\n",
    "    print(\"Diccionario implícito de RLE:\")\n",
    "    for caracter in conjunto:\n",
    "        print(f\"'{caracter}' -> {caracter}\")"
   ]
  },
  {
   "cell_type": "code",
   "execution_count": 196,
   "metadata": {},
   "outputs": [
    {
     "name": "stdout",
     "output_type": "stream",
     "text": [
      "Texto codificado:  ['$50', '\\n1', '$50', '\\n1', '$17', '_1', '$16', '_1', '$15', '\\n1', '$17', '_2', '$14', '_1', '$16', '\\n1', '$18', '_15', '$17', '\\n1', '$16', '_19', '$15', '\\n1', '$14', '_4', '$3', '_9', '$3', '_4', '$13', '\\n1', '$13', '_5', '$3', '_9', '$3', '_5', '$12', '\\n1', '$12', '_27', '$11', '\\n1', '$12', '_27', '$11', '\\n1', '$50', '\\n1', '$5', '_4', '$3', '_28', '$3', '_4', '$3', '\\n1', '$4', '_6', '$2', '_28', '$2', '_6', '$2', '\\n1', '$4', '_6', '$2', '_28', '$2', '_6', '$2', '\\n1', '$4', '_6', '$2', '_28', '$2', '_6', '$2', '\\n1', '$4', '_6', '$2', '_28', '$2', '_6', '$2', '\\n1', '$4', '_6', '$2', '_28', '$2', '_6', '$2', '\\n1', '$4', '_6', '$2', '_28', '$2', '_6', '$2', '\\n1', '$4', '_6', '$2', '_28', '$2', '_6', '$2', '\\n1', '$4', '_6', '$2', '_28', '$2', '_6', '$2', '\\n1', '$5', '_4', '$3', '_28', '$3', '_4', '$3', '\\n1', '$12', '_28', '$10', '\\n1', '$12', '_28', '$10', '\\n1', '$12', '_27', '$11', '\\n1', '$17', '_6', '$6', '_5', '$16', '\\n1', '$17', '_6', '$6', '_5', '$16', '\\n1', '$17', '_6', '$6', '_5', '$16', '\\n1', '$17', '_6', '$6', '_5', '$16', '\\n1', '$17', '_6', '$6', '_5', '$16', '\\n1', '$50']\n",
      "\n",
      "Texto original:\n",
      "\n",
      " $$$$$$$$$$$$$$$$$$$$$$$$$$$$$$$$$$$$$$$$$$$$$$$$$$\n",
      "$$$$$$$$$$$$$$$$$$$$$$$$$$$$$$$$$$$$$$$$$$$$$$$$$$\n",
      "$$$$$$$$$$$$$$$$$_$$$$$$$$$$$$$$$$_$$$$$$$$$$$$$$$\n",
      "$$$$$$$$$$$$$$$$$__$$$$$$$$$$$$$$_$$$$$$$$$$$$$$$$\n",
      "$$$$$$$$$$$$$$$$$$_______________$$$$$$$$$$$$$$$$$\n",
      "$$$$$$$$$$$$$$$$___________________$$$$$$$$$$$$$$$\n",
      "$$$$$$$$$$$$$$____$$$_________$$$____$$$$$$$$$$$$$\n",
      "$$$$$$$$$$$$$_____$$$_________$$$_____$$$$$$$$$$$$\n",
      "$$$$$$$$$$$$___________________________$$$$$$$$$$$\n",
      "$$$$$$$$$$$$___________________________$$$$$$$$$$$\n",
      "$$$$$$$$$$$$$$$$$$$$$$$$$$$$$$$$$$$$$$$$$$$$$$$$$$\n",
      "$$$$$____$$$____________________________$$$____$$$\n",
      "$$$$______$$____________________________$$______$$\n",
      "$$$$______$$____________________________$$______$$\n",
      "$$$$______$$____________________________$$______$$\n",
      "$$$$______$$____________________________$$______$$\n",
      "$$$$______$$____________________________$$______$$\n",
      "$$$$______$$____________________________$$______$$\n",
      "$$$$______$$____________________________$$______$$\n",
      "$$$$______$$____________________________$$______$$\n",
      "$$$$$____$$$____________________________$$$____$$$\n",
      "$$$$$$$$$$$$____________________________$$$$$$$$$$\n",
      "$$$$$$$$$$$$____________________________$$$$$$$$$$\n",
      "$$$$$$$$$$$$___________________________$$$$$$$$$$$\n",
      "$$$$$$$$$$$$$$$$$______$$$$$$_____$$$$$$$$$$$$$$$$\n",
      "$$$$$$$$$$$$$$$$$______$$$$$$_____$$$$$$$$$$$$$$$$\n",
      "$$$$$$$$$$$$$$$$$______$$$$$$_____$$$$$$$$$$$$$$$$\n",
      "$$$$$$$$$$$$$$$$$______$$$$$$_____$$$$$$$$$$$$$$$$\n",
      "$$$$$$$$$$$$$$$$$______$$$$$$_____$$$$$$$$$$$$$$$$\n",
      "$$$$$$$$$$$$$$$$$$$$$$$$$$$$$$$$$$$$$$$$$$$$$$$$$$\n",
      "\n",
      "Texto decodificado:\n",
      " $$$$$$$$$$$$$$$$$$$$$$$$$$$$$$$$$$$$$$$$$$$$$$$$$$\n",
      "$$$$$$$$$$$$$$$$$$$$$$$$$$$$$$$$$$$$$$$$$$$$$$$$$$\n",
      "$$$$$$$$$$$$$$$$$_$$$$$$$$$$$$$$$$_$$$$$$$$$$$$$$$\n",
      "$$$$$$$$$$$$$$$$$__$$$$$$$$$$$$$$_$$$$$$$$$$$$$$$$\n",
      "$$$$$$$$$$$$$$$$$$_______________$$$$$$$$$$$$$$$$$\n",
      "$$$$$$$$$$$$$$$$___________________$$$$$$$$$$$$$$$\n",
      "$$$$$$$$$$$$$$____$$$_________$$$____$$$$$$$$$$$$$\n",
      "$$$$$$$$$$$$$_____$$$_________$$$_____$$$$$$$$$$$$\n",
      "$$$$$$$$$$$$___________________________$$$$$$$$$$$\n",
      "$$$$$$$$$$$$___________________________$$$$$$$$$$$\n",
      "$$$$$$$$$$$$$$$$$$$$$$$$$$$$$$$$$$$$$$$$$$$$$$$$$$\n",
      "$$$$$____$$$____________________________$$$____$$$\n",
      "$$$$______$$____________________________$$______$$\n",
      "$$$$______$$____________________________$$______$$\n",
      "$$$$______$$____________________________$$______$$\n",
      "$$$$______$$____________________________$$______$$\n",
      "$$$$______$$____________________________$$______$$\n",
      "$$$$______$$____________________________$$______$$\n",
      "$$$$______$$____________________________$$______$$\n",
      "$$$$______$$____________________________$$______$$\n",
      "$$$$$____$$$____________________________$$$____$$$\n",
      "$$$$$$$$$$$$____________________________$$$$$$$$$$\n",
      "$$$$$$$$$$$$____________________________$$$$$$$$$$\n",
      "$$$$$$$$$$$$___________________________$$$$$$$$$$$\n",
      "$$$$$$$$$$$$$$$$$______$$$$$$_____$$$$$$$$$$$$$$$$\n",
      "$$$$$$$$$$$$$$$$$______$$$$$$_____$$$$$$$$$$$$$$$$\n",
      "$$$$$$$$$$$$$$$$$______$$$$$$_____$$$$$$$$$$$$$$$$\n",
      "$$$$$$$$$$$$$$$$$______$$$$$$_____$$$$$$$$$$$$$$$$\n",
      "$$$$$$$$$$$$$$$$$______$$$$$$_____$$$$$$$$$$$$$$$$\n",
      "$$$$$$$$$$$$$$$$$$$$$$$$$$$$$$$$$$$$$$$$$$$$$$$$$$\n",
      "\n",
      "Diccionario implícito de RLE:\n",
      "'\n",
      "' -> \n",
      "\n",
      "'_' -> _\n",
      "'$' -> $\n",
      "\n",
      "Mensaje decodificado guardado en 'output'.\n"
     ]
    }
   ],
   "source": [
    "# 5. Destino de información (Se imprimen las cadenas de texto)\n",
    "texto_codificado = codificacion(texto_original)\n",
    "texto_decodificado = decodificacion(texto_codificado)\n",
    "\n",
    "print()\n",
    "print(\"Texto original:\\n\\n\",texto_original)\n",
    "# print(\"\\n Texto codificado: \\n\", texto_codificado)s\n",
    "print(\"\\nTexto decodificado:\\n\", texto_decodificado)\n",
    "print()\n",
    "diccionario(texto_original)\n",
    "\n",
    "with open(\"output.txt\", \"w\", encoding=\"utf-8\") as archivo_salida:\n",
    "    archivo_salida.write(texto_decodificado)\n",
    "print()\n",
    "print(\"Mensaje decodificado guardado en 'output'.\")"
   ]
  }
 ],
 "metadata": {
  "kernelspec": {
   "display_name": "Python 3",
   "language": "python",
   "name": "python3"
  },
  "language_info": {
   "codemirror_mode": {
    "name": "ipython",
    "version": 3
   },
   "file_extension": ".py",
   "mimetype": "text/x-python",
   "name": "python",
   "nbconvert_exporter": "python",
   "pygments_lexer": "ipython3",
   "version": "3.9.13"
  }
 },
 "nbformat": 4,
 "nbformat_minor": 2
}
