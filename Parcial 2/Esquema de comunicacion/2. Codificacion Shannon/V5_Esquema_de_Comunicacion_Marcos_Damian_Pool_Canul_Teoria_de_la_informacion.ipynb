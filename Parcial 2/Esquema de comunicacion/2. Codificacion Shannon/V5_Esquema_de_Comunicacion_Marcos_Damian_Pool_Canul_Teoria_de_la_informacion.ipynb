{
 "cells": [
  {
   "cell_type": "markdown",
   "metadata": {},
   "source": [
    "# **Códificación Shannon Fano**"
   ]
  },
  {
   "cell_type": "markdown",
   "metadata": {},
   "source": [
    "https://en.wikipedia.org/wiki/Shannon%E2%80%93Fano_coding"
   ]
  },
  {
   "cell_type": "markdown",
   "metadata": {},
   "source": [
    "*La codificación Shannon-Fano es un algoritmo de compresión de datos sin pérdida desarrollado por Robert Fano a partir de una idea de Claude Shannon.*\n",
    "\n",
    "**Se trata de una codificación de entropía que produce un código de prefijo muy similar a un código de Huffman , aunque no siempre óptimo, a diferencia de este último.**"
   ]
  },
  {
   "cell_type": "markdown",
   "metadata": {},
   "source": [
    "Un árbol Shannon-Fano se construye de acuerdo a una especificación diseñada para definir una tabla de códigos efectiva. El algoritmo actual es simple:\n",
    "\n",
    "1. Para una lista de símbolos dada, crear su correspondiente lista de probabilidades o de frecuencias de aparición de manera que se conozca la frecuencia relativa de ocurrencia de cada símbolo.\n",
    "\n",
    "2. Ordenar las listas de símbolos de acuerdo a la frecuencia, con los símbolos de ocurrencia más frecuente a la izquierda y los menos comunes a la derecha.\n",
    "\n",
    "3. Dividir la lista en dos partes, haciendo la frecuencia total de la mitad izquierda lo más próxima posible a la de la mitad derecha.\n",
    "\n",
    "4. Asignar a la mitad izquierda el dígito binario “0”, y a la mitad derecha el dígito “1”. Esto significa que los códigos para los símbolos en la primera mitad empezarán con “0”, y que los códigos de la segunda mitad empezarán por “1”.\n",
    "5. Aplicar recursivamente los pasos 3 y 4 a cada una de las dos mitades, subdividiéndolas en grupos y añadiendo bits a los códigos hasta que cada símbolo se corresponde con una hoja del árbol."
   ]
  },
  {
   "cell_type": "markdown",
   "metadata": {},
   "source": [
    "### **1. Fuente de información**"
   ]
  },
  {
   "cell_type": "code",
   "execution_count": 246,
   "metadata": {},
   "outputs": [],
   "source": [
    "# 1. Fuente de información (leyendo un archivo de texto)\n",
    "def leer_archivo(nombre_archivo):\n",
    "    try:\n",
    "        with open(nombre_archivo, encoding=\"utf8\") as archivo:\n",
    "            contenido = archivo.read()\n",
    "            return contenido\n",
    "    except FileNotFoundError:\n",
    "        print(f\"El archivo '{nombre_archivo}' no fue encontrado.\")\n",
    "        return \"\"\n",
    "\n",
    "nombre_archivo_fuente = \"input.txt\"\n",
    "texto_original = leer_archivo(nombre_archivo_fuente)"
   ]
  },
  {
   "cell_type": "markdown",
   "metadata": {},
   "source": [
    "### **2. Transmisor**"
   ]
  },
  {
   "cell_type": "code",
   "execution_count": 247,
   "metadata": {},
   "outputs": [],
   "source": [
    "class Compresor: # Definimos una clase llamada \"Compresor\".\n",
    "# Clase comprimida para almacenar diferentes parámetros de cadena.\n",
    "    def __init__(self, caracter):\n",
    "        self.original = caracter # Almacena el carácter original sin comprimir.\n",
    "        self.contador = 0 # Se utiliza para llevar un registro del número de veces que aparece el carácter en la cadena comprimida.\n",
    "        self.codigo = \"\" # Se utiliza para almacenar el código comprimido asociado al carácter.\n",
    "        self.probabilidad = 0 # Se utiliza para almacenar la probabilidad de que el carácter aparezca en la cadena original."
   ]
  },
  {
   "cell_type": "code",
   "execution_count": 248,
   "metadata": {},
   "outputs": [],
   "source": [
    "# Esta función está destinada a ser utilizada para ordenar una lista de compresores según su probabilidad.\n",
    "def obtener_probabilidad(compresores):\n",
    "    return compresores.probabilidad"
   ]
  },
  {
   "cell_type": "code",
   "execution_count": 249,
   "metadata": {},
   "outputs": [],
   "source": [
    "# Dividir probabilidades en orden utilizadas en la codificación shannon.\n",
    "def divisor(probabilidad, puntero):\n",
    "    # Calcula la diferencia entre la suma de las probabilidades en la parte izquierda del puntero y la suma de las probabilidades en la parte derecha del puntero. \n",
    "    diff = sum(probabilidad[:puntero+1]) - sum(probabilidad[puntero+1:])\n",
    "    # Comprueba si la diferencia calculada es negativa, lo que implica que la división actual no es adecuada y debe intentar otra división.\n",
    "    if diff < 0:\n",
    "        # Llama recursivamente a la función divisor con el mismo conjunto de probabilidades, pero incrementa el puntero en 1.\n",
    "        punto = divisor(probabilidad, puntero+1)\n",
    "        diff_1 = sum(probabilidad[:punto]) - sum(probabilidad[punto:])\n",
    "        diff_2 = sum(probabilidad[:punto+1]) - sum(probabilidad[punto+1:])\n",
    "        # Compara las diferencias diff_1 y diff_2 y determina cuál de ellas es más pequeña en valor absoluto.\n",
    "        if abs(diff_1) < abs(diff_2):\n",
    "            return punto - 1\n",
    "        return punto\n",
    "    else:\n",
    "        return puntero\n",
    "    \n",
    "texto_decomprimido = texto_original"
   ]
  },
  {
   "cell_type": "code",
   "execution_count": 250,
   "metadata": {},
   "outputs": [],
   "source": [
    "# Se encarga de asignar códigos \"0\" y \"1\" a los compresores. \n",
    "def codificador(compresores, particion):\n",
    "    if particion > 0: # Indica que todavía hay compresores que deben recibir códigos.\n",
    "        parte_1 = compresores[:particion+1]\n",
    "        for i in parte_1:\n",
    "            i.codigo += '0' # Esto indica que estos compresores están en la parte izquierda de la partición.\n",
    "        if len(parte_1) <= 1: # En este caso, retorna y no se realizan más divisiones.\n",
    "            return\n",
    "        codificador(parte_1, divisor(probabilidad=[i.probabilidad for i in parte_1], puntero=0))\n",
    "        parte_2 = compresores[particion+1:]\n",
    "        for i in parte_2:\n",
    "            i.codigo += '1' # Esto indica que estos compresores están en la parte derecha de la partición.\n",
    "        if len(parte_2) <= 1:\n",
    "            return\n",
    "        codificador(parte_2, divisor(probabilidad=[i.probabilidad for i in parte_2], puntero=0))\n",
    "    elif particion == 0: # En caso de que la partición sea igual a cero, significa que todos los compresores se encuentran en la misma partición.\n",
    "        parte_1 = compresores[:particion+1]\n",
    "        for i in parte_1:\n",
    "            i.codigo += '0'\n",
    "        parte_2 = compresores[particion+1:]\n",
    "        for i in parte_2:\n",
    "            i.codigo += '1'"
   ]
  },
  {
   "cell_type": "code",
   "execution_count": 251,
   "metadata": {},
   "outputs": [],
   "source": [
    "# Realiza el proceso de compresión de datos utilizando el algoritmo de Shannon-Fano.\n",
    "def comprimir_datos(datos):\n",
    "    procesados = [] # Crea una lista vacía llamada procesados para mantener un registro de los caracteres procesados.\n",
    "    compresores = [] # Crea una lista vacía llamada compresores que almacenará objetos Compresor.\n",
    "    longitud_total = len(datos)\n",
    "    for i in range(len(datos)):\n",
    "        if datos[i] not in procesados: # Verifica si el carácter actual no ha sido procesado previamente (no se encuentra en la lista procesados).\n",
    "            procesados.append(datos[i]) # Agrega el carácter actual a la lista procesados para indicar que ha sido procesado.\n",
    "            conteo = datos.count(datos[i]) # Cuenta cuántas veces aparece el carácter actual en la cadena de entrada y almacena el resultado en la variable conteo.\n",
    "            var = conteo / longitud_total # Calcula la probabilidad del carácter actual dividiendo su conteo por la longitud total de la cadena.\n",
    "            comp = Compresor(datos[i])\n",
    "            comp.contador = conteo\n",
    "            comp.probabilidad = var\n",
    "            compresores.append(comp)\n",
    "    compresores_ordenados = sorted(compresores, key=obtener_probabilidad, reverse=True) # Ordena la lista de compresores en orden descendente de probabilidad utilizando la función obtener_probabilidad como clave de ordenamiento. \n",
    "    particion = divisor(probabilidad=[i.probabilidad for i in compresores_ordenados], puntero=0)\n",
    "    codificador(compresores_ordenados, particion)\n",
    "    return compresores_ordenados\n"
   ]
  },
  {
   "cell_type": "markdown",
   "metadata": {},
   "source": [
    "### **3. Canal**"
   ]
  },
  {
   "cell_type": "code",
   "execution_count": 252,
   "metadata": {},
   "outputs": [],
   "source": [
    "# 3 Canal (se agregan ruido mediante la perdida de paquetes)"
   ]
  },
  {
   "cell_type": "markdown",
   "metadata": {},
   "source": [
    "### **4. Receptor**"
   ]
  },
  {
   "cell_type": "code",
   "execution_count": 253,
   "metadata": {},
   "outputs": [
    {
     "name": "stdout",
     "output_type": "stream",
     "text": [
      "\n",
      "Mensaje decodificado guardado en 'output'.\n"
     ]
    }
   ],
   "source": [
    "with open(\"output.txt\", \"w\", encoding=\"utf-8\") as archivo_salida:\n",
    "    archivo_salida.write(texto_decomprimido)\n",
    "print()\n",
    "print(\"Mensaje decodificado guardado en 'output'.\")"
   ]
  },
  {
   "cell_type": "markdown",
   "metadata": {},
   "source": [
    "### **5. Destino de información**"
   ]
  },
  {
   "cell_type": "code",
   "execution_count": 254,
   "metadata": {},
   "outputs": [
    {
     "name": "stdout",
     "output_type": "stream",
     "text": [
      "                |------------------------|\n",
      "                |    Datos codificados   |\n",
      "                |------------------------|\n",
      "\n",
      "Caracter:  , Código: 000, Probabilidad: 0.15129519877472197\n",
      "Caracter: e, Código: 001, Probabilidad: 0.10741160018645535\n",
      "Caracter: a, Código: 010, Probabilidad: 0.09149630418858627\n",
      "Caracter: o, Código: 011, Probabilidad: 0.06412732236798295\n",
      "Caracter: s, Código: 011, Probabilidad: 0.05946593860291669\n",
      "Caracter: n, Código: 1000, Probabilidad: 0.05686888193380835\n",
      "Caracter: r, Código: 1001, Probabilidad: 0.05147499500566025\n",
      "Caracter: i, Código: 1001, Probabilidad: 0.040154491576213626\n",
      "Caracter: u, Código: 1010, Probabilidad: 0.03715788772724246\n",
      "Caracter: d, Código: 1011, Probabilidad: 0.036358793367516816\n",
      "Caracter: l, Código: 1011, Probabilidad: 0.03535992541785976\n",
      "Caracter: t, Código: 11000, Probabilidad: 0.03376173669840847\n",
      "Caracter: c, Código: 11001, Probabilidad: 0.027169208230671905\n",
      "Caracter: m, Código: 110100, Probabilidad: 0.02024372377971632\n",
      "Caracter: p, Código: 110101, Probabilidad: 0.018911899846840247\n",
      "Caracter: \n",
      ", Código: 110110, Probabilidad: 0.017713258307251782\n",
      "Caracter: b, Código: 110111, Probabilidad: 0.012918692148897916\n",
      "Caracter: ,, Código: 111000, Probabilidad: 0.012186188985816075\n",
      "Caracter: ., Código: 111001, Probabilidad: 0.009988679496570554\n",
      "Caracter: h, Código: 111001, Probabilidad: 0.00992208829992675\n",
      "Caracter: q, Código: 1110100, Probabilidad: 0.009122993940201106\n",
      "Caracter: g, Código: 1110101, Probabilidad: 0.008257308383831657\n",
      "Caracter: v, Código: 1110110, Probabilidad: 0.006725710861024172\n",
      "Caracter: y, Código: 1110111, Probabilidad: 0.005660251714723313\n",
      "Caracter: í, Código: 1110111, Probabilidad: 0.005660251714723313\n",
      "Caracter: j, Código: 1111000, Probabilidad: 0.00559366051807951\n",
      "Caracter: -, Código: 1111001, Probabilidad: 0.005393886928148099\n",
      "Caracter: …, Código: 1111001, Probabilidad: 0.004994339748285277\n",
      "Caracter: ó, Código: 11110100, Probabilidad: 0.004727974961710062\n",
      "Caracter: “, Código: 11110101, Probabilidad: 0.004195245388559633\n",
      "Caracter: ”, Código: 11110110, Probabilidad: 0.004062062995272025\n",
      "Caracter: f, Código: 11110111, Probabilidad: 0.0031297862422587732\n",
      "Caracter: E, Código: 11110111, Probabilidad: 0.0031297862422587732\n",
      "Caracter: á, Código: 11111000, Probabilidad: 0.0030631950456149696\n",
      "Caracter: D, Código: 11111001, Probabilidad: 0.0025970566691083437\n",
      "Caracter: z, Código: 11111001, Probabilidad: 0.00253046547246454\n",
      "Caracter: é, Código: 111110100, Probabilidad: 0.0023306918825331292\n",
      "Caracter: ¿, Código: 111110101, Probabilidad: 0.002130918292601718\n",
      "Caracter: ?, Código: 111110110, Probabilidad: 0.002130918292601718\n",
      "Caracter: A, Código: 111110111, Probabilidad: 0.0017979623093826995\n",
      "Caracter: P, Código: 111110111, Probabilidad: 0.0015981887194512886\n",
      "Caracter: L, Código: 111111000, Probabilidad: 0.0015315975228074848\n",
      "Caracter: x, Código: 111111001, Probabilidad: 0.00126523273623227\n",
      "Caracter: C, Código: 111111001, Probabilidad: 0.0011986415395884664\n",
      "Caracter: S, Código: 1111110100, Probabilidad: 0.0009322767530132517\n",
      "Caracter: ñ, Código: 1111110101, Probabilidad: 0.000865685556369448\n",
      "Caracter: N, Código: 1111110101, Probabilidad: 0.0007990943597256443\n",
      "Caracter: ú, Código: 1111110110, Probabilidad: 0.0007325031630818406\n",
      "Caracter: T, Código: 1111110111, Probabilidad: 0.0007325031630818406\n",
      "Caracter: H, Código: 1111110111, Probabilidad: 0.0006659119664380368\n",
      "Caracter: ‘, Código: 11111110000, Probabilidad: 0.0005993207697942332\n",
      "Caracter: ’, Código: 11111110001, Probabilidad: 0.0005993207697942332\n",
      "Caracter: J, Código: 11111110010, Probabilidad: 0.0005327295731504295\n",
      "Caracter: U, Código: 11111110011, Probabilidad: 0.0005327295731504295\n",
      "Caracter: Q, Código: 11111110100, Probabilidad: 0.0005327295731504295\n",
      "Caracter: 0, Código: 11111110101, Probabilidad: 0.0005327295731504295\n",
      "Caracter: 1, Código: 11111110110, Probabilidad: 0.00046613837650662585\n",
      "Caracter: M, Código: 11111110111, Probabilidad: 0.00046613837650662585\n",
      "Caracter: R, Código: 11111111000, Probabilidad: 0.00039954717986282216\n",
      "Caracter: ¡, Código: 11111111001, Probabilidad: 0.00039954717986282216\n",
      "Caracter: !, Código: 111111110100, Probabilidad: 0.00039954717986282216\n",
      "Caracter: O, Código: 111111110101, Probabilidad: 0.0003329559832190184\n",
      "Caracter: G, Código: 111111110110, Probabilidad: 0.00026636478657521474\n",
      "Caracter: V, Código: 111111110111, Probabilidad: 0.00019977358993141108\n",
      "Caracter: B, Código: 1111111110000, Probabilidad: 0.00019977358993141108\n",
      "Caracter: 5, Código: 1111111110001, Probabilidad: 0.00019977358993141108\n",
      "Caracter: 6, Código: 111111111001, Probabilidad: 0.00019977358993141108\n",
      "Caracter: —, Código: 111111111010, Probabilidad: 0.00019977358993141108\n",
      "Caracter: /, Código: 111111111011, Probabilidad: 0.00013318239328760737\n",
      "Caracter: F, Código: 111111111011, Probabilidad: 0.00013318239328760737\n",
      "Caracter: É, Código: 1111111111000, Probabilidad: 0.00013318239328760737\n",
      "Caracter: I, Código: 1111111111001, Probabilidad: 0.00013318239328760737\n",
      "Caracter: –, Código: 11111111110100, Probabilidad: 0.00013318239328760737\n",
      "Caracter: ı, Código: 11111111110101, Probabilidad: 6.659119664380368e-05\n",
      "Caracter: ́, Código: 11111111110110, Probabilidad: 6.659119664380368e-05\n",
      "Caracter: Y, Código: 11111111110111, Probabilidad: 6.659119664380368e-05\n",
      "Caracter: 2, Código: 11111111111000, Probabilidad: 6.659119664380368e-05\n",
      "Caracter: [, Código: 11111111111001, Probabilidad: 6.659119664380368e-05\n",
      "Caracter: ], Código: 11111111111010, Probabilidad: 6.659119664380368e-05\n",
      "Caracter: :, Código: 11111111111011, Probabilidad: 6.659119664380368e-05\n",
      "Caracter: k, Código: 11111111111100, Probabilidad: 6.659119664380368e-05\n",
      "Caracter: ~, Código: 11111111111101, Probabilidad: 6.659119664380368e-05\n",
      "Caracter: K, Código: 11111111111110, Probabilidad: 6.659119664380368e-05\n",
      "Caracter: ♪, Código: 11111111111111, Probabilidad: 6.659119664380368e-05\n"
     ]
    }
   ],
   "source": [
    "# 5. Destino de Información (Destinatario)\n",
    "print(\"                |------------------------|\")\n",
    "print(\"                |    Datos codificados   |\")\n",
    "print(\"                |------------------------|\")\n",
    "print()\n",
    "datos_comprimidos = comprimir_datos(texto_original)\n",
    "for i in datos_comprimidos:\n",
    "    print(f\"Caracter: {i.original}, Código: {i.codigo}, Probabilidad: {i.probabilidad}\")"
   ]
  }
 ],
 "metadata": {
  "kernelspec": {
   "display_name": "Python 3",
   "language": "python",
   "name": "python3"
  },
  "language_info": {
   "codemirror_mode": {
    "name": "ipython",
    "version": 3
   },
   "file_extension": ".py",
   "mimetype": "text/x-python",
   "name": "python",
   "nbconvert_exporter": "python",
   "pygments_lexer": "ipython3",
   "version": "3.9.13"
  },
  "orig_nbformat": 4
 },
 "nbformat": 4,
 "nbformat_minor": 2
}
