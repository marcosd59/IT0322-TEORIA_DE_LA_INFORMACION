{
 "cells": [
  {
   "cell_type": "markdown",
   "metadata": {},
   "source": [
    "# **Códificación Shannon Fano**"
   ]
  },
  {
   "cell_type": "markdown",
   "metadata": {},
   "source": [
    "*La codificación Shannon-Fano es un algoritmo de compresión de datos sin pérdida desarrollado por Robert Fano a partir de una idea de Claude Shannon.*\n",
    "\n",
    "**Se trata de una codificación de entropía que produce un código de prefijo muy similar a un código de Huffman , aunque no siempre óptimo, a diferencia de este último.**"
   ]
  },
  {
   "cell_type": "markdown",
   "metadata": {},
   "source": [
    "Un árbol Shannon-Fano se construye de acuerdo a una especificación diseñada para definir una tabla de códigos efectiva. El algoritmo actual es simple:\n",
    "\n",
    "1. Para una lista de símbolos dada, crear su correspondiente lista de probabilidades o de frecuencias de aparición de manera que se conozca la frecuencia relativa de ocurrencia de cada símbolo.\n",
    "\n",
    "2. Ordenar las listas de símbolos de acuerdo a la frecuencia, con los símbolos de ocurrencia más frecuente a la izquierda y los menos comunes a la derecha.\n",
    "\n",
    "3. Dividir la lista en dos partes, haciendo la frecuencia total de la mitad izquierda lo más próxima posible a la de la mitad derecha.\n",
    "\n",
    "4. Asignar a la mitad izquierda el dígito binario “0”, y a la mitad derecha el dígito “1”. Esto significa que los códigos para los símbolos en la primera mitad empezarán con “0”, y que los códigos de la segunda mitad empezarán por “1”.\n",
    "5. Aplicar recursivamente los pasos 3 y 4 a cada una de las dos mitades, subdividiéndolas en grupos y añadiendo bits a los códigos hasta que cada símbolo se corresponde con una hoja del árbol."
   ]
  },
  {
   "cell_type": "markdown",
   "metadata": {},
   "source": [
    "### 1. Fuente de información"
   ]
  },
  {
   "cell_type": "code",
   "execution_count": 15,
   "metadata": {},
   "outputs": [
    {
     "name": "stdout",
     "output_type": "stream",
     "text": [
      "Mensaje: Hola, esto es un mensaje de prueba para la comunicacion.\n"
     ]
    }
   ],
   "source": [
    "# 1. Fuente de información (leyendo un archivo de texto)\n",
    "\n",
    "def leer_archivo(nombre_archivo):\n",
    "    try:\n",
    "        with open(nombre_archivo, 'r') as archivo:\n",
    "            contenido = archivo.read()\n",
    "            return contenido\n",
    "    except FileNotFoundError:\n",
    "        print(f\"El archivo '{nombre_archivo}' no fue encontrado.\")\n",
    "        return \"\"\n",
    "\n",
    "nombre_archivo_fuente = \"fuente.txt\"\n",
    "\n",
    "texto_original = leer_archivo(nombre_archivo_fuente)\n",
    "\n",
    "print(\"Mensaje:\", texto_original)"
   ]
  },
  {
   "cell_type": "markdown",
   "metadata": {},
   "source": [
    "### 2. Transmisor"
   ]
  },
  {
   "cell_type": "code",
   "execution_count": 16,
   "metadata": {},
   "outputs": [],
   "source": [
    "# Paso 1: Convertir el mensaje de texto a una cadena binaria\n",
    "def texto_a_binario(mensaje):\n",
    "    binario = ''.join(format(ord(char), '08b') for char in mensaje)\n",
    "    return binario\n",
    "\n",
    "mensaje_binario = texto_a_binario(texto_original)"
   ]
  },
  {
   "cell_type": "code",
   "execution_count": 17,
   "metadata": {},
   "outputs": [],
   "source": [
    "# Paso 2: Dividir la cadena binaria en bytes (8 bits)\n",
    "def dividir_binario_en_bytes(binario):\n",
    "    return [binario[i:i+8] for i in range(0, len(binario), 8)]\n",
    "\n",
    "bytes_binarios = dividir_binario_en_bytes(mensaje_binario)"
   ]
  },
  {
   "cell_type": "code",
   "execution_count": 18,
   "metadata": {},
   "outputs": [],
   "source": [
    "# Paso 3: Calcular las frecuencias de cada byte\n",
    "from collections import defaultdict\n",
    "\n",
    "def calcular_frecuencias(bytes):\n",
    "    frecuencias = defaultdict(int)\n",
    "    for byte in bytes:\n",
    "        frecuencias[byte] += 1\n",
    "    return frecuencias\n",
    "\n",
    "frecuencias = calcular_frecuencias(bytes_binarios)"
   ]
  },
  {
   "cell_type": "code",
   "execution_count": 19,
   "metadata": {},
   "outputs": [],
   "source": [
    "# Paso 4: Construir la tabla de codificación Shannon-Fano\n",
    "def construir_tabla_shannon_fano(frecuencias):\n",
    "    # Ordenar las frecuencias en orden descendente\n",
    "    frecuencias_ordenadas = sorted(frecuencias.items(), key=lambda x: x[1], reverse=True)\n",
    "    \n",
    "    # Crear la tabla de codificación Shannon-Fano\n",
    "    tabla_codificacion = {}\n",
    "    def asignar_codigos(frecuencias_ordenadas, codigo=''):\n",
    "        if len(frecuencias_ordenadas) == 1:\n",
    "            tabla_codificacion[frecuencias_ordenadas[0][0]] = codigo\n",
    "        else:\n",
    "            split_point = len(frecuencias_ordenadas) // 2\n",
    "            for byte, frecuencia in frecuencias_ordenadas[:split_point]:\n",
    "                tabla_codificacion[byte] = codigo + '0'\n",
    "            for byte, frecuencia in frecuencias_ordenadas[split_point:]:\n",
    "                tabla_codificacion[byte] = codigo + '1'\n",
    "            asignar_codigos(frecuencias_ordenadas[:split_point], codigo + '0')\n",
    "            asignar_codigos(frecuencias_ordenadas[split_point:], codigo + '1')\n",
    "    \n",
    "    asignar_codigos(frecuencias_ordenadas)\n",
    "    return tabla_codificacion\n",
    "\n",
    "tabla_codificacion_sf = construir_tabla_shannon_fano(frecuencias)"
   ]
  },
  {
   "cell_type": "code",
   "execution_count": 20,
   "metadata": {},
   "outputs": [],
   "source": [
    "# Paso 5: Codificar el mensaje utilizando la tabla de codificación Shannon-Fano\n",
    "def codificar_con_shannon_fano(bytes_binarios, tabla_codificacion):\n",
    "    texto_codificado = ''.join(tabla_codificacion[byte] for byte in bytes_binarios)\n",
    "    return texto_codificado\n",
    "\n",
    "mensaje_codificado = codificar_con_shannon_fano(bytes_binarios, tabla_codificacion_sf)"
   ]
  },
  {
   "cell_type": "markdown",
   "metadata": {},
   "source": [
    "### 3. Canal"
   ]
  },
  {
   "cell_type": "code",
   "execution_count": 21,
   "metadata": {},
   "outputs": [],
   "source": [
    "# 3. Canal (agregar ruido a la cadena binaria)"
   ]
  },
  {
   "cell_type": "markdown",
   "metadata": {},
   "source": [
    "### 4. Receptor"
   ]
  },
  {
   "cell_type": "code",
   "execution_count": 22,
   "metadata": {},
   "outputs": [],
   "source": [
    "# Paso 6: Decodificar el texto codificado utilizando la tabla de codificación Shannon-Fano\n",
    "def decodificar_con_shannon_fano(texto_codificado, tabla_codificacion):\n",
    "    texto_decodificado = ''\n",
    "    codigo_actual = ''\n",
    "    for bit in texto_codificado:\n",
    "        codigo_actual += bit\n",
    "        if codigo_actual in tabla_codificacion.values():\n",
    "            byte = [key for key, value in tabla_codificacion.items() if value == codigo_actual][0]\n",
    "            texto_decodificado += byte\n",
    "            codigo_actual = ''\n",
    "    return texto_decodificado\n",
    "\n",
    "mensaje_decodificado = decodificar_con_shannon_fano(mensaje_codificado, tabla_codificacion_sf)"
   ]
  },
  {
   "cell_type": "markdown",
   "metadata": {},
   "source": [
    "### 5. Destino de información"
   ]
  },
  {
   "cell_type": "code",
   "execution_count": 24,
   "metadata": {},
   "outputs": [
    {
     "name": "stdout",
     "output_type": "stream",
     "text": [
      "Mensaje Original: Hola, esto es un mensaje de prueba para la comunicacion.\n",
      "Mensaje Codificado: 101100011001110000110111000000100100110000110000000100100000001010011100000111100100011101000001110100100000111000100000100010010101001011110000100001000000110010001000001110000100000110001100111101010011110100110000101101010001100011111111\n",
      "Mensaje Decodificado: 0100100001101111011011000110000100101100001000000110010101110011011101000110111100100000011001010111001100100000011101010110111000100000011011010110010101101110011100110110000101101010011001010010000001100100011001010010000001110000011100100111010101100101011000100110000100100000011100000110000101110010011000010010000001101100011000010010000001100011011011110110110101110101011011100110100101100011011000010110001101101001011011110110111000101110\n"
     ]
    }
   ],
   "source": [
    "# 5. Destino de Información (Destinatario)\n",
    "print(\"Mensaje Original:\", texto_original)\n",
    "print(\"Mensaje Codificado:\", mensaje_codificado)\n",
    "print(\"Mensaje Decodificado:\", mensaje_decodificado)"
   ]
  },
  {
   "cell_type": "code",
   "execution_count": 26,
   "metadata": {},
   "outputs": [
    {
     "name": "stdout",
     "output_type": "stream",
     "text": [
      "Tabla de Codificación Shannon-Fano:\n",
      "00100000: 0000\n",
      "01100001: 0001\n",
      "01100101: 0010\n",
      "01101111: 00110\n",
      "01101110: 00111\n",
      "01110011: 0100\n",
      "01110101: 0101\n",
      "01100011: 0110\n",
      "01101100: 01110\n",
      "01101101: 01111\n",
      "01110000: 1000\n",
      "01110010: 1001\n",
      "01101001: 1010\n",
      "01001000: 10110\n",
      "00101100: 10111\n",
      "01110100: 1100\n",
      "01101010: 1101\n",
      "01100100: 1110\n",
      "01100010: 11110\n",
      "00101110: 11111\n"
     ]
    }
   ],
   "source": [
    "print(\"Tabla de Codificación Shannon-Fano:\")\n",
    "for byte, codigo in tabla_codificacion_sf.items():\n",
    "    print(f\"{byte}: {codigo}\")\n"
   ]
  }
 ],
 "metadata": {
  "kernelspec": {
   "display_name": "Python 3",
   "language": "python",
   "name": "python3"
  },
  "language_info": {
   "codemirror_mode": {
    "name": "ipython",
    "version": 3
   },
   "file_extension": ".py",
   "mimetype": "text/x-python",
   "name": "python",
   "nbconvert_exporter": "python",
   "pygments_lexer": "ipython3",
   "version": "3.9.13"
  },
  "orig_nbformat": 4
 },
 "nbformat": 4,
 "nbformat_minor": 2
}
