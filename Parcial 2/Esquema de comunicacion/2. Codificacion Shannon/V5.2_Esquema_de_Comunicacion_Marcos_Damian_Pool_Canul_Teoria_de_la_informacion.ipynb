{
 "cells": [
  {
   "cell_type": "markdown",
   "metadata": {},
   "source": [
    "### **1. Fuente de información**"
   ]
  },
  {
   "cell_type": "code",
   "execution_count": 1,
   "metadata": {},
   "outputs": [],
   "source": [
    "# 1. Fuente de información (leyendo un archivo de texto)\n",
    "\n",
    "def leer_archivo(nombre_archivo):\n",
    "    try:\n",
    "        with open(nombre_archivo, 'r') as archivo:\n",
    "            contenido = archivo.read()\n",
    "            return contenido\n",
    "    except FileNotFoundError:\n",
    "        print(f\"El archivo '{nombre_archivo}' no fue encontrado.\")\n",
    "        return \"\""
   ]
  },
  {
   "cell_type": "markdown",
   "metadata": {},
   "source": [
    "### **2. Transmisor**"
   ]
  },
  {
   "cell_type": "code",
   "execution_count": 2,
   "metadata": {},
   "outputs": [],
   "source": [
    "# Paso 1: Convertir el mensaje de texto a una cadena binaria\n",
    "def texto_a_binario(mensaje):\n",
    "    binario = ''.join(format(ord(char), '08b') for char in mensaje)\n",
    "    return binario"
   ]
  },
  {
   "cell_type": "code",
   "execution_count": 3,
   "metadata": {},
   "outputs": [],
   "source": [
    "# Paso 2: Dividir la cadena binaria en bytes (8 bits)\n",
    "def dividir_cadena(binario):\n",
    "    return [binario[i:i+8] for i in range(0, len(binario), 8)]"
   ]
  },
  {
   "cell_type": "code",
   "execution_count": 4,
   "metadata": {},
   "outputs": [],
   "source": [
    "# Paso 3: Calcular las frecuencias de cada byte\n",
    "from collections import defaultdict\n",
    "\n",
    "def calcular_frecuencias(bytes):\n",
    "    frecuencias = defaultdict(int)\n",
    "    for byte in bytes:\n",
    "        frecuencias[byte] += 1\n",
    "    return frecuencias"
   ]
  },
  {
   "cell_type": "code",
   "execution_count": 5,
   "metadata": {},
   "outputs": [],
   "source": [
    "# Paso 4: Construir la tabla de codificación Shannon-Fano\n",
    "def construir_tabla(frecuencias):\n",
    "    # Ordenar las frecuencias en orden descendente\n",
    "    frecuencias_ordenadas = sorted(frecuencias.items(), key=lambda x: x[1], reverse=True)\n",
    "\n",
    "    # Crear la tabla de codificación Shannon-Fano\n",
    "    tabla_codificacion = {}\n",
    "    def asignar_codigos(frecuencias_ordenadas, codigo=''):\n",
    "        if len(frecuencias_ordenadas) == 1:\n",
    "            tabla_codificacion[frecuencias_ordenadas[0][0]] = codigo\n",
    "        else:\n",
    "            split_point = len(frecuencias_ordenadas) // 2\n",
    "            for byte, frecuencia in frecuencias_ordenadas[:split_point]:\n",
    "                tabla_codificacion[byte] = codigo + '0'\n",
    "            for byte, frecuencia in frecuencias_ordenadas[split_point:]:\n",
    "                tabla_codificacion[byte] = codigo + '1'\n",
    "            asignar_codigos(frecuencias_ordenadas[:split_point], codigo + '0')\n",
    "            asignar_codigos(frecuencias_ordenadas[split_point:], codigo + '1')\n",
    "\n",
    "    asignar_codigos(frecuencias_ordenadas)\n",
    "    return tabla_codificacion"
   ]
  },
  {
   "cell_type": "code",
   "execution_count": 6,
   "metadata": {},
   "outputs": [],
   "source": [
    "# Paso 5: Codificar el mensaje utilizando la tabla de codificación Shannon-Fano\n",
    "def codificacion_shannon(bytes_binarios, tabla_codificacion):\n",
    "    texto_codificado = ''.join(tabla_codificacion[byte] for byte in bytes_binarios)\n",
    "    return texto_codificado"
   ]
  },
  {
   "cell_type": "markdown",
   "metadata": {},
   "source": [
    "### **3. Canal**"
   ]
  },
  {
   "cell_type": "code",
   "execution_count": 7,
   "metadata": {},
   "outputs": [],
   "source": [
    "import random\n",
    "\n",
    "# Paso 1: Dividir el mensaje codificado en paquetes\n",
    "def dividir_en_paquetes(mensaje_codificado, tamano_paquete):\n",
    "    paquetes = [mensaje_codificado[i:i + tamano_paquete] for i in range(0, len(mensaje_codificado), tamano_paquete)]\n",
    "    return paquetes"
   ]
  },
  {
   "cell_type": "code",
   "execution_count": 8,
   "metadata": {},
   "outputs": [],
   "source": [
    "# Función para simular la pérdida de paquetes\n",
    "def perdida_de_paquetes(paquetes, probabilidad_perdida):\n",
    "    paquetes_perdidos = []\n",
    "    for paquete in paquetes:\n",
    "        if random.random() < probabilidad_perdida:\n",
    "            paquetes_perdidos.append(None)\n",
    "            print(f\"Paquete {paquete} se perdió. Retransmitiendo...\")\n",
    "        else:\n",
    "            paquetes_perdidos.append(paquete)\n",
    "    return paquetes_perdidos"
   ]
  },
  {
   "cell_type": "code",
   "execution_count": 9,
   "metadata": {},
   "outputs": [],
   "source": [
    "# Función para recibir los paquetes y solicitar reenvío de los perdidos\n",
    "def recibir_y_reenviar(paquetes_perdidos, mensaje_codificado):\n",
    "    nuevo_mensaje = []\n",
    "\n",
    "    for paquete in paquetes_perdidos:\n",
    "        if paquete is None:\n",
    "            # Si el paquete se perdió, solicitar reenvío\n",
    "            indice = len(nuevo_mensaje)\n",
    "            while paquete is None:\n",
    "                paquete = mensaje_codificado[indice]  # Simula el reenvío\n",
    "                nuevo_mensaje.append(paquete)\n",
    "                indice += 1\n",
    "        else:\n",
    "            nuevo_mensaje.append(paquete)\n",
    "\n",
    "    return nuevo_mensaje"
   ]
  },
  {
   "cell_type": "markdown",
   "metadata": {},
   "source": [
    "### **4. Receptor**"
   ]
  },
  {
   "cell_type": "code",
   "execution_count": 10,
   "metadata": {},
   "outputs": [],
   "source": [
    "# Paso 6: Decodificar el texto codificado utilizando la tabla de codificación Shannon-Fano\n",
    "def decodificacion_shannon(texto_codificado, tabla_codificacion):\n",
    "    texto_decodificado = ''\n",
    "    codigo_actual = ''\n",
    "    for bit in texto_codificado:\n",
    "        codigo_actual += bit\n",
    "        if codigo_actual in tabla_codificacion.values():\n",
    "            byte = [key for key, value in tabla_codificacion.items() if value == codigo_actual][0]\n",
    "            texto_decodificado += byte\n",
    "            codigo_actual = ''\n",
    "    return texto_decodificado\n",
    "\n",
    "# Función para convertir una cadena binaria en texto\n",
    "def binario_a_texto(binario):\n",
    "    texto = \"\"\n",
    "    for i in range(0, len(binario), 8):\n",
    "        byte = binario[i:i+8]\n",
    "        char = chr(int(byte, 2))\n",
    "        texto += char\n",
    "    return texto\n"
   ]
  },
  {
   "cell_type": "markdown",
   "metadata": {},
   "source": [
    "### **5. Destino de información**"
   ]
  },
  {
   "cell_type": "code",
   "execution_count": 11,
   "metadata": {},
   "outputs": [
    {
     "name": "stdout",
     "output_type": "stream",
     "text": [
      "Mensaje: Hola, esto es un mensaje de prueba para la comunicacion.\n",
      "\n",
      "Mensaje binario: 0100100001101111011011000110000100101100001000000110010101110011011101000110111100100000011001010111001100100000011101010110111000100000011011010110010101101110011100110110000101101010011001010010000001100100011001010010000001110000011100100111010101100101011000100110000100100000011100000110000101110010011000010010000001101100011000010010000001100011011011110110110101110101011011100110100101100011011000010110001101101001011011110110111000101110\n",
      "Bytes binarios: ['01001000', '01101111', '01101100', '01100001', '00101100', '00100000', '01100101', '01110011', '01110100', '01101111', '00100000', '01100101', '01110011', '00100000', '01110101', '01101110', '00100000', '01101101', '01100101', '01101110', '01110011', '01100001', '01101010', '01100101', '00100000', '01100100', '01100101', '00100000', '01110000', '01110010', '01110101', '01100101', '01100010', '01100001', '00100000', '01110000', '01100001', '01110010', '01100001', '00100000', '01101100', '01100001', '00100000', '01100011', '01101111', '01101101', '01110101', '01101110', '01101001', '01100011', '01100001', '01100011', '01101001', '01101111', '01101110', '00101110']\n",
      "Mensaje codificado 101100011001110000110111000000100100110000110000000100100000001010011100000111100100011101000001110100100000111000100000100010010101001011110000100001000000110010001000001110000100000110001100111101010011110100110000101101010001100011111111\n",
      "Paquetes:  ['10110001', '10011100', '00110111', '00000010', '01001100', '00110000', '00010010', '00000010', '10011100', '00011110', '01000111', '01000001', '11010010', '00001110', '00100000', '10001001', '01010010', '11110000', '10000100', '00001100', '10001000', '00111000', '01000001', '10001100', '11110101', '00111101', '00110000', '10110101', '00011000', '11111111']\n",
      "\n",
      "Paquete 10011100 se perdió. Retransmitiendo...\n",
      "Paquete 10011100 se perdió. Retransmitiendo...\n",
      "Paquete 01000111 se perdió. Retransmitiendo...\n",
      "Paquete 11010010 se perdió. Retransmitiendo...\n",
      "Paquete 00100000 se perdió. Retransmitiendo...\n",
      "Paquete 10001001 se perdió. Retransmitiendo...\n",
      "Paquete 01000001 se perdió. Retransmitiendo...\n",
      "Paquete 00110000 se perdió. Retransmitiendo...\n",
      "Paquete 00011000 se perdió. Retransmitiendo...\n",
      "Paquete 11111111 se perdió. Retransmitiendo...\n",
      "\n",
      "Paquetes perdidos: ['10110001', None, '00110111', '00000010', '01001100', '00110000', '00010010', '00000010', None, '00011110', None, '01000001', None, '00001110', None, None, '01010010', '11110000', '10000100', '00001100', '10001000', '00111000', None, '10001100', '11110101', '00111101', None, '10110101', None, None]\n",
      "\n",
      "Nuevo mensaje recuperado: ['10110001', '10011100', '00110111', '00000010', '01001100', '00110000', '00010010', '00000010', '10011100', '00011110', '01000111', '01000001', '11010010', '00001110', '00100000', '10001001', '01010010', '11110000', '10000100', '00001100', '10001000', '00111000', '01000001', '10001100', '11110101', '00111101', '00110000', '10110101', '00011000', '11111111']\n",
      "Mensaje decodificado: 0100100001101111011011000110000100101100001000000110010101110011011101000110111100100000011001010111001100100000011101010110111000100000011011010110010101101110011100110110000101101010011001010010000001100100011001010010000001110000011100100111010101100101011000100110000100100000011100000110000101110010011000010010000001101100011000010010000001100011011011110110110101110101011011100110100101100011011000010110001101101001011011110110111000101110\n",
      "Nuevo mensaje decodificado: 0100100001101111011011000110000100101100001000000110010101110011011101000110111100100000011001010111001100100000011101010110111000100000011011010110010101101110011100110110000101101010011001010010000001100100011001010010000001110000011100100111010101100101011000100110000100100000011100000110000101110010011000010010000001101100011000010010000001100011011011110110110101110101011011100110100101100011011000010110001101101001011011110110111000101110\n",
      "\n",
      "Mensaje recivido: Hola, esto es un mensaje de prueba para la comunicacion.\n",
      "\n",
      " <-- El mensaje decodificado coincide con el texto original -->\n"
     ]
    }
   ],
   "source": [
    "nombre_archivo_fuente = \"fuente.txt\"\n",
    "\n",
    "texto_original = leer_archivo(nombre_archivo_fuente)\n",
    "\n",
    "print(\"Mensaje:\", texto_original)\n",
    "print()\n",
    "\n",
    "mensaje_binario = texto_a_binario(texto_original)\n",
    "print(\"Mensaje binario:\",mensaje_binario)\n",
    "\n",
    "bytes_binarios = dividir_cadena(mensaje_binario)\n",
    "print(\"Bytes binarios:\",bytes_binarios)\n",
    "\n",
    "frecuencias = calcular_frecuencias(bytes_binarios)\n",
    "# print(\"Frecuencias:\",frecuencias)\n",
    "\n",
    "tabla_codificacion_sf = construir_tabla(frecuencias)\n",
    "mensaje_codificado = codificacion_shannon(bytes_binarios, tabla_codificacion_sf)\n",
    "print(\"Mensaje codificado\", mensaje_codificado)\n",
    "\n",
    "tamano_paquete = 8  # Define el tamaño de cada paquete\n",
    "paquetes = dividir_en_paquetes(mensaje_codificado, tamano_paquete)\n",
    "print(\"Paquetes: \", paquetes)\n",
    "print()\n",
    "\n",
    "probabilidad_perdida = 0.4  # Probabilidad de pérdida de paquetes\n",
    "paquetes_perdidos = perdida_de_paquetes(paquetes, probabilidad_perdida)\n",
    "print()\n",
    "print(\"Paquetes perdidos:\",paquetes_perdidos)\n",
    "print()\n",
    "\n",
    "nuevo_mensaje = recibir_y_reenviar(paquetes_perdidos, paquetes)\n",
    "print(\"Nuevo mensaje recuperado:\",nuevo_mensaje)\n",
    "\n",
    "mensaje_decodificado = decodificacion_shannon(mensaje_codificado, tabla_codificacion_sf)\n",
    "print(\"Mensaje decodificado:\", mensaje_decodificado)\n",
    "\n",
    "# Paso 6: Decodificar el mensaje recibido\n",
    "nuevo_mensaje_decodificado = decodificacion_shannon(''.join(nuevo_mensaje), tabla_codificacion_sf)\n",
    "print(\"Nuevo mensaje decodificado:\",nuevo_mensaje_decodificado)\n",
    "\n",
    "mensaje_binario_decodificado = nuevo_mensaje_decodificado\n",
    "mensaje_texto_decodificado = binario_a_texto(mensaje_binario_decodificado)\n",
    "\n",
    "print()\n",
    "print(\"Mensaje recivido:\",mensaje_texto_decodificado)\n",
    "# Comparar el mensaje decodificado con el texto original\n",
    "if mensaje_texto_decodificado == texto_original:\n",
    "    print()\n",
    "    print(\" <-- El mensaje decodificado coincide con el texto original -->\")\n",
    "else:\n",
    "    print()\n",
    "    print(\"--> El mensaje decodificado no coincide con el texto original <--\")"
   ]
  }
 ],
 "metadata": {
  "kernelspec": {
   "display_name": "Python 3",
   "language": "python",
   "name": "python3"
  },
  "language_info": {
   "codemirror_mode": {
    "name": "ipython",
    "version": 3
   },
   "file_extension": ".py",
   "mimetype": "text/x-python",
   "name": "python",
   "nbconvert_exporter": "python",
   "pygments_lexer": "ipython3",
   "version": "3.11.6"
  }
 },
 "nbformat": 4,
 "nbformat_minor": 2
}
